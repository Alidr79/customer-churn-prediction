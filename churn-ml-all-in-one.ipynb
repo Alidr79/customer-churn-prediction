{
 "cells": [
  {
   "cell_type": "markdown",
   "id": "54601bbd",
   "metadata": {
    "papermill": {
     "duration": 0.057238,
     "end_time": "2021-10-31T18:12:42.338170",
     "exception": false,
     "start_time": "2021-10-31T18:12:42.280932",
     "status": "completed"
    },
    "tags": []
   },
   "source": [
    "<h1 style=\"color:#88bddb\">What will i do in this notebook?</h1>\n",
    "\n",
    "- 1.<a href=\"#1\">Importing the libraries</a>\n",
    "\n",
    "\n",
    "- 2.<a href=\"#2\">Load the data</a>\n",
    "\n",
    "\n",
    "- 3.<a href=\"#3\">EDA</a>\n",
    "\n",
    "\n",
    "- 4. Data Preprocessing \n",
    "- - 4-0.<a href=\"#4_0\">Duplicate customers?</a>\n",
    "- - 4-1.<a href=\"#4_1\">Dropping useless columns</a>\n",
    "- - 4-2.<a href=\"#4_2\">Missing values</a>\n",
    "- - 4-3.<a href=\"#4_3\">Encoding</a>\n",
    "\n",
    "\n",
    "- 5.<a href=\"#5\">Strorytelling - Visualization :</a>\n",
    "- - 5_1.<a href=\"#5_1\">Linear correlations</a>\n",
    "- - 5_2.<a href=\"#5_2\">Exited_Gender_IsActive</a>\n",
    "- - 5_3.<a href=\"#5_3\">Dangerous range !</a>\n",
    "- - 5_4.<a href=\"#5_4\">Customer regions</a>\n",
    "- - 5_5.<a href=\"#5_5\">Balances</a>\n",
    "- - 5_6.<a href=\"#5_6\">Number of purchased products</a>\n",
    "\n",
    "\n",
    "- 6.<a href=\"#6\">Prepare data for machine learning</a>\n",
    "- - 6_1.<a href=\"#6_1\">Train_test split</a>\n",
    "- - 6_2.<a href=\"#6_2\">Scaling</a>\n",
    "- - 6_3.<a href=\"#6_3\">SMOTE (a.k.a. synthetic minority over-sampling technique)</a>\n",
    "\n",
    "\n",
    "- 7.<a href=\"#7\">Train the models</a>\n",
    "- - 7-1.<a href=\"#7_1\">Logistic regression</a>\n",
    "- - 7-1-2.<a href=\"#7_1_2\">What's the effect of SMOTE ?</a>\n",
    "- - 7-2.<a href=\"#7_2\">KNN classifier</a>\n",
    "- - 7-3.<a href=\"#7_3\">Gaussian Naive Bayes</a>\n",
    "- - 7-4.<a href=\"#7_4\">Classification tree</a>\n",
    "- - 7-5.<a href=\"#7_5\">Support vector classifier</a>\n",
    "- - 7-6.<a href=\"#7_6\">Random forest</a>\n",
    "- - 7-7.<a href=\"#7_7\">AdaBoost</a>\n",
    "- - 7-8.<a href=\"#7_8\">XGBoost</a>\n",
    "\n",
    "\n",
    "- 8.<a href=\"#8\">Final step</a>\n",
    "- - 8-1.<a href=\"#8_1\">Models comparison</a>\n",
    "- - 8-2.<a href=\"#8_2\">Final model confusion matrix</a>"
   ]
  },
  {
   "cell_type": "markdown",
   "id": "4963ceb9",
   "metadata": {
    "papermill": {
     "duration": 0.053363,
     "end_time": "2021-10-31T18:12:42.447589",
     "exception": false,
     "start_time": "2021-10-31T18:12:42.394226",
     "status": "completed"
    },
    "tags": []
   },
   "source": [
    "<a id = \"1\"></a>\n",
    "## 1. Importing the libraries"
   ]
  },
  {
   "cell_type": "code",
   "execution_count": 1,
   "id": "b13e7f92",
   "metadata": {
    "execution": {
     "iopub.execute_input": "2021-10-31T18:12:42.563438Z",
     "iopub.status.busy": "2021-10-31T18:12:42.558431Z",
     "iopub.status.idle": "2021-10-31T18:12:44.083752Z",
     "shell.execute_reply": "2021-10-31T18:12:44.083076Z",
     "shell.execute_reply.started": "2021-10-31T18:03:31.469410Z"
    },
    "papermill": {
     "duration": 1.58288,
     "end_time": "2021-10-31T18:12:44.083924",
     "exception": false,
     "start_time": "2021-10-31T18:12:42.501044",
     "status": "completed"
    },
    "tags": []
   },
   "outputs": [],
   "source": [
    "# EDA\n",
    "#------------------\n",
    "import numpy as np\n",
    "import pandas as pd\n",
    "\n",
    "\n",
    "\n",
    "# Visualization\n",
    "#------------------\n",
    "%matplotlib inline\n",
    "import matplotlib.pyplot as plt\n",
    "from matplotlib.lines import Line2D\n",
    "import seaborn as sns\n",
    "\n",
    "\n",
    "\n",
    "# Preprocessing\n",
    "#------------------\n",
    "from imblearn.over_sampling import SMOTE\n",
    "from sklearn.preprocessing import StandardScaler\n",
    "from sklearn.model_selection import train_test_split\n",
    "\n",
    "\n",
    "\n",
    "# Models\n",
    "#------------------\n",
    "import sklearn\n",
    "from sklearn.linear_model import LogisticRegression\n",
    "from sklearn.neighbors import KNeighborsClassifier\n",
    "from sklearn.naive_bayes import GaussianNB\n",
    "from sklearn.tree import DecisionTreeClassifier\n",
    "from sklearn.svm import SVC\n",
    "from sklearn.ensemble import RandomForestClassifier\n",
    "from sklearn.ensemble import AdaBoostClassifier\n",
    "from xgboost import XGBClassifier\n",
    "\n",
    "\n",
    "\n",
    "# Evaluation\n",
    "from sklearn import metrics"
   ]
  },
  {
   "cell_type": "markdown",
   "id": "b23bd2ca",
   "metadata": {
    "papermill": {
     "duration": 0.053934,
     "end_time": "2021-10-31T18:12:44.191338",
     "exception": false,
     "start_time": "2021-10-31T18:12:44.137404",
     "status": "completed"
    },
    "tags": []
   },
   "source": [
    "<a id = \"2\"></a>\n",
    "## 2. Load and Prepare Data"
   ]
  },
  {
   "cell_type": "code",
   "execution_count": 2,
   "id": "6ebf52ad",
   "metadata": {
    "execution": {
     "iopub.execute_input": "2021-10-31T18:12:44.304542Z",
     "iopub.status.busy": "2021-10-31T18:12:44.303475Z",
     "iopub.status.idle": "2021-10-31T18:12:44.354250Z",
     "shell.execute_reply": "2021-10-31T18:12:44.354816Z",
     "shell.execute_reply.started": "2021-10-31T18:03:33.400503Z"
    },
    "papermill": {
     "duration": 0.108434,
     "end_time": "2021-10-31T18:12:44.354988",
     "exception": false,
     "start_time": "2021-10-31T18:12:44.246554",
     "status": "completed"
    },
    "tags": []
   },
   "outputs": [],
   "source": [
    "data = pd.read_csv('../input/churn-modelling/Churn_Modelling.csv')"
   ]
  },
  {
   "cell_type": "markdown",
   "id": "844f0d2d",
   "metadata": {
    "papermill": {
     "duration": 0.053532,
     "end_time": "2021-10-31T18:12:44.463482",
     "exception": false,
     "start_time": "2021-10-31T18:12:44.409950",
     "status": "completed"
    },
    "tags": []
   },
   "source": [
    "<a id = \"3\"></a>\n",
    "## 3. EDA"
   ]
  },
  {
   "cell_type": "code",
   "execution_count": 3,
   "id": "e8ba11c3",
   "metadata": {
    "execution": {
     "iopub.execute_input": "2021-10-31T18:12:44.574163Z",
     "iopub.status.busy": "2021-10-31T18:12:44.573167Z",
     "iopub.status.idle": "2021-10-31T18:12:44.581036Z",
     "shell.execute_reply": "2021-10-31T18:12:44.581672Z",
     "shell.execute_reply.started": "2021-10-31T18:03:33.452895Z"
    },
    "papermill": {
     "duration": 0.064966,
     "end_time": "2021-10-31T18:12:44.581845",
     "exception": false,
     "start_time": "2021-10-31T18:12:44.516879",
     "status": "completed"
    },
    "tags": []
   },
   "outputs": [
    {
     "data": {
      "text/plain": [
       "(10000, 14)"
      ]
     },
     "execution_count": 3,
     "metadata": {},
     "output_type": "execute_result"
    }
   ],
   "source": [
    "data.shape"
   ]
  },
  {
   "cell_type": "code",
   "execution_count": 4,
   "id": "ca82dee0",
   "metadata": {
    "execution": {
     "iopub.execute_input": "2021-10-31T18:12:44.694057Z",
     "iopub.status.busy": "2021-10-31T18:12:44.693113Z",
     "iopub.status.idle": "2021-10-31T18:12:44.720962Z",
     "shell.execute_reply": "2021-10-31T18:12:44.721435Z",
     "shell.execute_reply.started": "2021-10-31T18:03:33.466867Z"
    },
    "papermill": {
     "duration": 0.085077,
     "end_time": "2021-10-31T18:12:44.721616",
     "exception": false,
     "start_time": "2021-10-31T18:12:44.636539",
     "status": "completed"
    },
    "tags": []
   },
   "outputs": [
    {
     "name": "stdout",
     "output_type": "stream",
     "text": [
      "<class 'pandas.core.frame.DataFrame'>\n",
      "RangeIndex: 10000 entries, 0 to 9999\n",
      "Data columns (total 14 columns):\n",
      " #   Column           Non-Null Count  Dtype  \n",
      "---  ------           --------------  -----  \n",
      " 0   RowNumber        10000 non-null  int64  \n",
      " 1   CustomerId       10000 non-null  int64  \n",
      " 2   Surname          10000 non-null  object \n",
      " 3   CreditScore      10000 non-null  int64  \n",
      " 4   Geography        10000 non-null  object \n",
      " 5   Gender           10000 non-null  object \n",
      " 6   Age              10000 non-null  int64  \n",
      " 7   Tenure           10000 non-null  int64  \n",
      " 8   Balance          10000 non-null  float64\n",
      " 9   NumOfProducts    10000 non-null  int64  \n",
      " 10  HasCrCard        10000 non-null  int64  \n",
      " 11  IsActiveMember   10000 non-null  int64  \n",
      " 12  EstimatedSalary  10000 non-null  float64\n",
      " 13  Exited           10000 non-null  int64  \n",
      "dtypes: float64(2), int64(9), object(3)\n",
      "memory usage: 1.1+ MB\n"
     ]
    }
   ],
   "source": [
    "data.info()"
   ]
  },
  {
   "cell_type": "code",
   "execution_count": 5,
   "id": "d8236ef9",
   "metadata": {
    "execution": {
     "iopub.execute_input": "2021-10-31T18:12:44.840450Z",
     "iopub.status.busy": "2021-10-31T18:12:44.839774Z",
     "iopub.status.idle": "2021-10-31T18:12:44.885807Z",
     "shell.execute_reply": "2021-10-31T18:12:44.885179Z",
     "shell.execute_reply.started": "2021-10-31T18:03:33.503397Z"
    },
    "papermill": {
     "duration": 0.105549,
     "end_time": "2021-10-31T18:12:44.885942",
     "exception": false,
     "start_time": "2021-10-31T18:12:44.780393",
     "status": "completed"
    },
    "tags": []
   },
   "outputs": [
    {
     "data": {
      "text/html": [
       "<div>\n",
       "<style scoped>\n",
       "    .dataframe tbody tr th:only-of-type {\n",
       "        vertical-align: middle;\n",
       "    }\n",
       "\n",
       "    .dataframe tbody tr th {\n",
       "        vertical-align: top;\n",
       "    }\n",
       "\n",
       "    .dataframe thead th {\n",
       "        text-align: right;\n",
       "    }\n",
       "</style>\n",
       "<table border=\"1\" class=\"dataframe\">\n",
       "  <thead>\n",
       "    <tr style=\"text-align: right;\">\n",
       "      <th></th>\n",
       "      <th>RowNumber</th>\n",
       "      <th>CustomerId</th>\n",
       "      <th>CreditScore</th>\n",
       "      <th>Age</th>\n",
       "      <th>Tenure</th>\n",
       "      <th>Balance</th>\n",
       "      <th>NumOfProducts</th>\n",
       "      <th>HasCrCard</th>\n",
       "      <th>IsActiveMember</th>\n",
       "      <th>EstimatedSalary</th>\n",
       "      <th>Exited</th>\n",
       "    </tr>\n",
       "  </thead>\n",
       "  <tbody>\n",
       "    <tr>\n",
       "      <th>count</th>\n",
       "      <td>10000.00000</td>\n",
       "      <td>1.000000e+04</td>\n",
       "      <td>10000.000000</td>\n",
       "      <td>10000.000000</td>\n",
       "      <td>10000.000000</td>\n",
       "      <td>10000.000000</td>\n",
       "      <td>10000.000000</td>\n",
       "      <td>10000.00000</td>\n",
       "      <td>10000.000000</td>\n",
       "      <td>10000.000000</td>\n",
       "      <td>10000.000000</td>\n",
       "    </tr>\n",
       "    <tr>\n",
       "      <th>mean</th>\n",
       "      <td>5000.50000</td>\n",
       "      <td>1.569094e+07</td>\n",
       "      <td>650.528800</td>\n",
       "      <td>38.921800</td>\n",
       "      <td>5.012800</td>\n",
       "      <td>76485.889288</td>\n",
       "      <td>1.530200</td>\n",
       "      <td>0.70550</td>\n",
       "      <td>0.515100</td>\n",
       "      <td>100090.239881</td>\n",
       "      <td>0.203700</td>\n",
       "    </tr>\n",
       "    <tr>\n",
       "      <th>std</th>\n",
       "      <td>2886.89568</td>\n",
       "      <td>7.193619e+04</td>\n",
       "      <td>96.653299</td>\n",
       "      <td>10.487806</td>\n",
       "      <td>2.892174</td>\n",
       "      <td>62397.405202</td>\n",
       "      <td>0.581654</td>\n",
       "      <td>0.45584</td>\n",
       "      <td>0.499797</td>\n",
       "      <td>57510.492818</td>\n",
       "      <td>0.402769</td>\n",
       "    </tr>\n",
       "    <tr>\n",
       "      <th>min</th>\n",
       "      <td>1.00000</td>\n",
       "      <td>1.556570e+07</td>\n",
       "      <td>350.000000</td>\n",
       "      <td>18.000000</td>\n",
       "      <td>0.000000</td>\n",
       "      <td>0.000000</td>\n",
       "      <td>1.000000</td>\n",
       "      <td>0.00000</td>\n",
       "      <td>0.000000</td>\n",
       "      <td>11.580000</td>\n",
       "      <td>0.000000</td>\n",
       "    </tr>\n",
       "    <tr>\n",
       "      <th>25%</th>\n",
       "      <td>2500.75000</td>\n",
       "      <td>1.562853e+07</td>\n",
       "      <td>584.000000</td>\n",
       "      <td>32.000000</td>\n",
       "      <td>3.000000</td>\n",
       "      <td>0.000000</td>\n",
       "      <td>1.000000</td>\n",
       "      <td>0.00000</td>\n",
       "      <td>0.000000</td>\n",
       "      <td>51002.110000</td>\n",
       "      <td>0.000000</td>\n",
       "    </tr>\n",
       "    <tr>\n",
       "      <th>50%</th>\n",
       "      <td>5000.50000</td>\n",
       "      <td>1.569074e+07</td>\n",
       "      <td>652.000000</td>\n",
       "      <td>37.000000</td>\n",
       "      <td>5.000000</td>\n",
       "      <td>97198.540000</td>\n",
       "      <td>1.000000</td>\n",
       "      <td>1.00000</td>\n",
       "      <td>1.000000</td>\n",
       "      <td>100193.915000</td>\n",
       "      <td>0.000000</td>\n",
       "    </tr>\n",
       "    <tr>\n",
       "      <th>75%</th>\n",
       "      <td>7500.25000</td>\n",
       "      <td>1.575323e+07</td>\n",
       "      <td>718.000000</td>\n",
       "      <td>44.000000</td>\n",
       "      <td>7.000000</td>\n",
       "      <td>127644.240000</td>\n",
       "      <td>2.000000</td>\n",
       "      <td>1.00000</td>\n",
       "      <td>1.000000</td>\n",
       "      <td>149388.247500</td>\n",
       "      <td>0.000000</td>\n",
       "    </tr>\n",
       "    <tr>\n",
       "      <th>max</th>\n",
       "      <td>10000.00000</td>\n",
       "      <td>1.581569e+07</td>\n",
       "      <td>850.000000</td>\n",
       "      <td>92.000000</td>\n",
       "      <td>10.000000</td>\n",
       "      <td>250898.090000</td>\n",
       "      <td>4.000000</td>\n",
       "      <td>1.00000</td>\n",
       "      <td>1.000000</td>\n",
       "      <td>199992.480000</td>\n",
       "      <td>1.000000</td>\n",
       "    </tr>\n",
       "  </tbody>\n",
       "</table>\n",
       "</div>"
      ],
      "text/plain": [
       "         RowNumber    CustomerId   CreditScore           Age        Tenure  \\\n",
       "count  10000.00000  1.000000e+04  10000.000000  10000.000000  10000.000000   \n",
       "mean    5000.50000  1.569094e+07    650.528800     38.921800      5.012800   \n",
       "std     2886.89568  7.193619e+04     96.653299     10.487806      2.892174   \n",
       "min        1.00000  1.556570e+07    350.000000     18.000000      0.000000   \n",
       "25%     2500.75000  1.562853e+07    584.000000     32.000000      3.000000   \n",
       "50%     5000.50000  1.569074e+07    652.000000     37.000000      5.000000   \n",
       "75%     7500.25000  1.575323e+07    718.000000     44.000000      7.000000   \n",
       "max    10000.00000  1.581569e+07    850.000000     92.000000     10.000000   \n",
       "\n",
       "             Balance  NumOfProducts    HasCrCard  IsActiveMember  \\\n",
       "count   10000.000000   10000.000000  10000.00000    10000.000000   \n",
       "mean    76485.889288       1.530200      0.70550        0.515100   \n",
       "std     62397.405202       0.581654      0.45584        0.499797   \n",
       "min         0.000000       1.000000      0.00000        0.000000   \n",
       "25%         0.000000       1.000000      0.00000        0.000000   \n",
       "50%     97198.540000       1.000000      1.00000        1.000000   \n",
       "75%    127644.240000       2.000000      1.00000        1.000000   \n",
       "max    250898.090000       4.000000      1.00000        1.000000   \n",
       "\n",
       "       EstimatedSalary        Exited  \n",
       "count     10000.000000  10000.000000  \n",
       "mean     100090.239881      0.203700  \n",
       "std       57510.492818      0.402769  \n",
       "min          11.580000      0.000000  \n",
       "25%       51002.110000      0.000000  \n",
       "50%      100193.915000      0.000000  \n",
       "75%      149388.247500      0.000000  \n",
       "max      199992.480000      1.000000  "
      ]
     },
     "execution_count": 5,
     "metadata": {},
     "output_type": "execute_result"
    }
   ],
   "source": [
    "data.describe()"
   ]
  },
  {
   "cell_type": "code",
   "execution_count": 6,
   "id": "d0dc2a0c",
   "metadata": {
    "execution": {
     "iopub.execute_input": "2021-10-31T18:12:45.008380Z",
     "iopub.status.busy": "2021-10-31T18:12:45.007350Z",
     "iopub.status.idle": "2021-10-31T18:12:45.016685Z",
     "shell.execute_reply": "2021-10-31T18:12:45.017122Z",
     "shell.execute_reply.started": "2021-10-31T18:03:33.561172Z"
    },
    "papermill": {
     "duration": 0.074867,
     "end_time": "2021-10-31T18:12:45.017320",
     "exception": false,
     "start_time": "2021-10-31T18:12:44.942453",
     "status": "completed"
    },
    "tags": []
   },
   "outputs": [
    {
     "data": {
      "text/html": [
       "<div>\n",
       "<style scoped>\n",
       "    .dataframe tbody tr th:only-of-type {\n",
       "        vertical-align: middle;\n",
       "    }\n",
       "\n",
       "    .dataframe tbody tr th {\n",
       "        vertical-align: top;\n",
       "    }\n",
       "\n",
       "    .dataframe thead th {\n",
       "        text-align: right;\n",
       "    }\n",
       "</style>\n",
       "<table border=\"1\" class=\"dataframe\">\n",
       "  <thead>\n",
       "    <tr style=\"text-align: right;\">\n",
       "      <th></th>\n",
       "      <th>RowNumber</th>\n",
       "      <th>CustomerId</th>\n",
       "      <th>Surname</th>\n",
       "      <th>CreditScore</th>\n",
       "      <th>Geography</th>\n",
       "      <th>Gender</th>\n",
       "      <th>Age</th>\n",
       "      <th>Tenure</th>\n",
       "      <th>Balance</th>\n",
       "      <th>NumOfProducts</th>\n",
       "      <th>HasCrCard</th>\n",
       "      <th>IsActiveMember</th>\n",
       "      <th>EstimatedSalary</th>\n",
       "      <th>Exited</th>\n",
       "    </tr>\n",
       "  </thead>\n",
       "  <tbody>\n",
       "    <tr>\n",
       "      <th>0</th>\n",
       "      <td>1</td>\n",
       "      <td>15634602</td>\n",
       "      <td>Hargrave</td>\n",
       "      <td>619</td>\n",
       "      <td>France</td>\n",
       "      <td>Female</td>\n",
       "      <td>42</td>\n",
       "      <td>2</td>\n",
       "      <td>0.00</td>\n",
       "      <td>1</td>\n",
       "      <td>1</td>\n",
       "      <td>1</td>\n",
       "      <td>101348.88</td>\n",
       "      <td>1</td>\n",
       "    </tr>\n",
       "    <tr>\n",
       "      <th>1</th>\n",
       "      <td>2</td>\n",
       "      <td>15647311</td>\n",
       "      <td>Hill</td>\n",
       "      <td>608</td>\n",
       "      <td>Spain</td>\n",
       "      <td>Female</td>\n",
       "      <td>41</td>\n",
       "      <td>1</td>\n",
       "      <td>83807.86</td>\n",
       "      <td>1</td>\n",
       "      <td>0</td>\n",
       "      <td>1</td>\n",
       "      <td>112542.58</td>\n",
       "      <td>0</td>\n",
       "    </tr>\n",
       "    <tr>\n",
       "      <th>2</th>\n",
       "      <td>3</td>\n",
       "      <td>15619304</td>\n",
       "      <td>Onio</td>\n",
       "      <td>502</td>\n",
       "      <td>France</td>\n",
       "      <td>Female</td>\n",
       "      <td>42</td>\n",
       "      <td>8</td>\n",
       "      <td>159660.80</td>\n",
       "      <td>3</td>\n",
       "      <td>1</td>\n",
       "      <td>0</td>\n",
       "      <td>113931.57</td>\n",
       "      <td>1</td>\n",
       "    </tr>\n",
       "    <tr>\n",
       "      <th>3</th>\n",
       "      <td>4</td>\n",
       "      <td>15701354</td>\n",
       "      <td>Boni</td>\n",
       "      <td>699</td>\n",
       "      <td>France</td>\n",
       "      <td>Female</td>\n",
       "      <td>39</td>\n",
       "      <td>1</td>\n",
       "      <td>0.00</td>\n",
       "      <td>2</td>\n",
       "      <td>0</td>\n",
       "      <td>0</td>\n",
       "      <td>93826.63</td>\n",
       "      <td>0</td>\n",
       "    </tr>\n",
       "    <tr>\n",
       "      <th>4</th>\n",
       "      <td>5</td>\n",
       "      <td>15737888</td>\n",
       "      <td>Mitchell</td>\n",
       "      <td>850</td>\n",
       "      <td>Spain</td>\n",
       "      <td>Female</td>\n",
       "      <td>43</td>\n",
       "      <td>2</td>\n",
       "      <td>125510.82</td>\n",
       "      <td>1</td>\n",
       "      <td>1</td>\n",
       "      <td>1</td>\n",
       "      <td>79084.10</td>\n",
       "      <td>0</td>\n",
       "    </tr>\n",
       "  </tbody>\n",
       "</table>\n",
       "</div>"
      ],
      "text/plain": [
       "   RowNumber  CustomerId   Surname  CreditScore Geography  Gender  Age  \\\n",
       "0          1    15634602  Hargrave          619    France  Female   42   \n",
       "1          2    15647311      Hill          608     Spain  Female   41   \n",
       "2          3    15619304      Onio          502    France  Female   42   \n",
       "3          4    15701354      Boni          699    France  Female   39   \n",
       "4          5    15737888  Mitchell          850     Spain  Female   43   \n",
       "\n",
       "   Tenure    Balance  NumOfProducts  HasCrCard  IsActiveMember  \\\n",
       "0       2       0.00              1          1               1   \n",
       "1       1   83807.86              1          0               1   \n",
       "2       8  159660.80              3          1               0   \n",
       "3       1       0.00              2          0               0   \n",
       "4       2  125510.82              1          1               1   \n",
       "\n",
       "   EstimatedSalary  Exited  \n",
       "0        101348.88       1  \n",
       "1        112542.58       0  \n",
       "2        113931.57       1  \n",
       "3         93826.63       0  \n",
       "4         79084.10       0  "
      ]
     },
     "execution_count": 6,
     "metadata": {},
     "output_type": "execute_result"
    }
   ],
   "source": [
    "data.head()"
   ]
  },
  {
   "cell_type": "markdown",
   "id": "938c31b7",
   "metadata": {
    "papermill": {
     "duration": 0.055268,
     "end_time": "2021-10-31T18:12:45.128833",
     "exception": false,
     "start_time": "2021-10-31T18:12:45.073565",
     "status": "completed"
    },
    "tags": []
   },
   "source": [
    "<a id = \"4\"></a>\n",
    "## 4. Data Preprocessing"
   ]
  },
  {
   "cell_type": "markdown",
   "id": "c1f3e847",
   "metadata": {
    "papermill": {
     "duration": 0.055729,
     "end_time": "2021-10-31T18:12:45.240501",
     "exception": false,
     "start_time": "2021-10-31T18:12:45.184772",
     "status": "completed"
    },
    "tags": []
   },
   "source": [
    "<a id = \"4_0\"></a>\n",
    "<h2 style=\"color:#005b96\">4-0. Do we have any duplicate customers?</h2>"
   ]
  },
  {
   "cell_type": "code",
   "execution_count": 7,
   "id": "0f4f4bd9",
   "metadata": {
    "execution": {
     "iopub.execute_input": "2021-10-31T18:12:45.356109Z",
     "iopub.status.busy": "2021-10-31T18:12:45.355162Z",
     "iopub.status.idle": "2021-10-31T18:12:45.360751Z",
     "shell.execute_reply": "2021-10-31T18:12:45.361226Z",
     "shell.execute_reply.started": "2021-10-31T18:03:33.581015Z"
    },
    "papermill": {
     "duration": 0.064709,
     "end_time": "2021-10-31T18:12:45.361399",
     "exception": false,
     "start_time": "2021-10-31T18:12:45.296690",
     "status": "completed"
    },
    "tags": []
   },
   "outputs": [
    {
     "name": "stdout",
     "output_type": "stream",
     "text": [
      "In this dataset from 10000 customers, 10000 of them are unique.\n"
     ]
    }
   ],
   "source": [
    "print(\"In this dataset from {all} customers, {num} of them are unique.\".format(all = len(data) ,\n",
    "                                                                               num = len(data.CustomerId.unique())))"
   ]
  },
  {
   "cell_type": "markdown",
   "id": "2cdb3118",
   "metadata": {
    "papermill": {
     "duration": 0.055541,
     "end_time": "2021-10-31T18:12:45.473673",
     "exception": false,
     "start_time": "2021-10-31T18:12:45.418132",
     "status": "completed"
    },
    "tags": []
   },
   "source": [
    "<a id = \"4_1\"></a>\n",
    "<h2 style=\"color:#005b96\">4-1. Dropping useless columns:</h2>\n",
    "\n",
    "- RowNumber\n",
    "- CustomerId\n",
    "- Surname"
   ]
  },
  {
   "cell_type": "code",
   "execution_count": 8,
   "id": "6cd94126",
   "metadata": {
    "execution": {
     "iopub.execute_input": "2021-10-31T18:12:45.591418Z",
     "iopub.status.busy": "2021-10-31T18:12:45.590719Z",
     "iopub.status.idle": "2021-10-31T18:12:45.593584Z",
     "shell.execute_reply": "2021-10-31T18:12:45.594114Z",
     "shell.execute_reply.started": "2021-10-31T18:03:33.595807Z"
    },
    "papermill": {
     "duration": 0.064803,
     "end_time": "2021-10-31T18:12:45.594312",
     "exception": false,
     "start_time": "2021-10-31T18:12:45.529509",
     "status": "completed"
    },
    "tags": []
   },
   "outputs": [],
   "source": [
    "data.drop(labels = ['RowNumber' , 'CustomerId' , 'Surname'] , axis = 1 , inplace = True)"
   ]
  },
  {
   "cell_type": "markdown",
   "id": "0150b4ec",
   "metadata": {
    "papermill": {
     "duration": 0.055596,
     "end_time": "2021-10-31T18:12:45.705889",
     "exception": false,
     "start_time": "2021-10-31T18:12:45.650293",
     "status": "completed"
    },
    "tags": []
   },
   "source": [
    "<a id = \"4_2\"></a>\n",
    "<h2 style=\"color:#005b96\">4-2. Missing values:</h2>"
   ]
  },
  {
   "cell_type": "code",
   "execution_count": 9,
   "id": "814e9b40",
   "metadata": {
    "execution": {
     "iopub.execute_input": "2021-10-31T18:12:45.823006Z",
     "iopub.status.busy": "2021-10-31T18:12:45.822342Z",
     "iopub.status.idle": "2021-10-31T18:12:45.831132Z",
     "shell.execute_reply": "2021-10-31T18:12:45.831738Z",
     "shell.execute_reply.started": "2021-10-31T18:03:33.612626Z"
    },
    "papermill": {
     "duration": 0.068999,
     "end_time": "2021-10-31T18:12:45.831905",
     "exception": false,
     "start_time": "2021-10-31T18:12:45.762906",
     "status": "completed"
    },
    "tags": []
   },
   "outputs": [
    {
     "data": {
      "text/plain": [
       "CreditScore        0\n",
       "Geography          0\n",
       "Gender             0\n",
       "Age                0\n",
       "Tenure             0\n",
       "Balance            0\n",
       "NumOfProducts      0\n",
       "HasCrCard          0\n",
       "IsActiveMember     0\n",
       "EstimatedSalary    0\n",
       "Exited             0\n",
       "dtype: int64"
      ]
     },
     "execution_count": 9,
     "metadata": {},
     "output_type": "execute_result"
    }
   ],
   "source": [
    "data.isnull().sum()"
   ]
  },
  {
   "cell_type": "markdown",
   "id": "17651248",
   "metadata": {
    "papermill": {
     "duration": 0.056245,
     "end_time": "2021-10-31T18:12:45.944230",
     "exception": false,
     "start_time": "2021-10-31T18:12:45.887985",
     "status": "completed"
    },
    "tags": []
   },
   "source": [
    "<h2 style=\"color:tomato\">**No missing values so no need to dropna or impute**</h2>"
   ]
  },
  {
   "cell_type": "markdown",
   "id": "0afb0258",
   "metadata": {
    "papermill": {
     "duration": 0.056175,
     "end_time": "2021-10-31T18:12:46.056584",
     "exception": false,
     "start_time": "2021-10-31T18:12:46.000409",
     "status": "completed"
    },
    "tags": []
   },
   "source": [
    "<a id = \"4_3\"></a>\n",
    "<h2 style=\"color:#005b96\">4-3. Encoding:</h2>\n",
    "\n",
    "- Geography --> OneHotEncoding\n",
    "- Gender    --> LabelEncoding"
   ]
  },
  {
   "cell_type": "code",
   "execution_count": 10,
   "id": "03ecae67",
   "metadata": {
    "execution": {
     "iopub.execute_input": "2021-10-31T18:12:46.172565Z",
     "iopub.status.busy": "2021-10-31T18:12:46.171866Z",
     "iopub.status.idle": "2021-10-31T18:12:46.180077Z",
     "shell.execute_reply": "2021-10-31T18:12:46.180809Z",
     "shell.execute_reply.started": "2021-10-31T18:03:33.635369Z"
    },
    "papermill": {
     "duration": 0.067645,
     "end_time": "2021-10-31T18:12:46.181042",
     "exception": false,
     "start_time": "2021-10-31T18:12:46.113397",
     "status": "completed"
    },
    "tags": []
   },
   "outputs": [
    {
     "name": "stdout",
     "output_type": "stream",
     "text": [
      "Geography unique values :\n",
      "-------------------------\n",
      "France     5014\n",
      "Germany    2509\n",
      "Spain      2477\n",
      "Name: Geography, dtype: int64\n"
     ]
    }
   ],
   "source": [
    "print(\"Geography unique values :\" , '-'*25 , sep = '\\n')\n",
    "print(data.Geography.value_counts())"
   ]
  },
  {
   "cell_type": "code",
   "execution_count": 11,
   "id": "818d0d55",
   "metadata": {
    "execution": {
     "iopub.execute_input": "2021-10-31T18:12:46.301330Z",
     "iopub.status.busy": "2021-10-31T18:12:46.300666Z",
     "iopub.status.idle": "2021-10-31T18:12:46.308751Z",
     "shell.execute_reply": "2021-10-31T18:12:46.309311Z",
     "shell.execute_reply.started": "2021-10-31T18:03:33.649020Z"
    },
    "papermill": {
     "duration": 0.071001,
     "end_time": "2021-10-31T18:12:46.309483",
     "exception": false,
     "start_time": "2021-10-31T18:12:46.238482",
     "status": "completed"
    },
    "tags": []
   },
   "outputs": [],
   "source": [
    "data = pd.concat([pd.get_dummies(data['Geography']) , data] , axis = 1)\n",
    "data.drop(labels = 'Geography' , axis = 1 , inplace = True)"
   ]
  },
  {
   "cell_type": "code",
   "execution_count": 12,
   "id": "3768eb64",
   "metadata": {
    "execution": {
     "iopub.execute_input": "2021-10-31T18:12:46.425430Z",
     "iopub.status.busy": "2021-10-31T18:12:46.424784Z",
     "iopub.status.idle": "2021-10-31T18:12:46.435818Z",
     "shell.execute_reply": "2021-10-31T18:12:46.436298Z",
     "shell.execute_reply.started": "2021-10-31T18:03:33.666759Z"
    },
    "papermill": {
     "duration": 0.070609,
     "end_time": "2021-10-31T18:12:46.436473",
     "exception": false,
     "start_time": "2021-10-31T18:12:46.365864",
     "status": "completed"
    },
    "tags": []
   },
   "outputs": [],
   "source": [
    "data['Gender'].replace({'Male':1 , 'Female':0} , inplace = True)"
   ]
  },
  {
   "cell_type": "markdown",
   "id": "d96c5882",
   "metadata": {
    "papermill": {
     "duration": 0.056077,
     "end_time": "2021-10-31T18:12:46.548871",
     "exception": false,
     "start_time": "2021-10-31T18:12:46.492794",
     "status": "completed"
    },
    "tags": []
   },
   "source": [
    "<h2 style=\"color:#009b96\">Our data until now:</h2>"
   ]
  },
  {
   "cell_type": "code",
   "execution_count": 13,
   "id": "7c1d7a66",
   "metadata": {
    "execution": {
     "iopub.execute_input": "2021-10-31T18:12:46.664484Z",
     "iopub.status.busy": "2021-10-31T18:12:46.663850Z",
     "iopub.status.idle": "2021-10-31T18:12:46.677271Z",
     "shell.execute_reply": "2021-10-31T18:12:46.677940Z",
     "shell.execute_reply.started": "2021-10-31T18:03:33.681265Z"
    },
    "papermill": {
     "duration": 0.073091,
     "end_time": "2021-10-31T18:12:46.678188",
     "exception": false,
     "start_time": "2021-10-31T18:12:46.605097",
     "status": "completed"
    },
    "tags": []
   },
   "outputs": [
    {
     "name": "stdout",
     "output_type": "stream",
     "text": [
      "<class 'pandas.core.frame.DataFrame'>\n",
      "RangeIndex: 10000 entries, 0 to 9999\n",
      "Data columns (total 13 columns):\n",
      " #   Column           Non-Null Count  Dtype  \n",
      "---  ------           --------------  -----  \n",
      " 0   France           10000 non-null  uint8  \n",
      " 1   Germany          10000 non-null  uint8  \n",
      " 2   Spain            10000 non-null  uint8  \n",
      " 3   CreditScore      10000 non-null  int64  \n",
      " 4   Gender           10000 non-null  int64  \n",
      " 5   Age              10000 non-null  int64  \n",
      " 6   Tenure           10000 non-null  int64  \n",
      " 7   Balance          10000 non-null  float64\n",
      " 8   NumOfProducts    10000 non-null  int64  \n",
      " 9   HasCrCard        10000 non-null  int64  \n",
      " 10  IsActiveMember   10000 non-null  int64  \n",
      " 11  EstimatedSalary  10000 non-null  float64\n",
      " 12  Exited           10000 non-null  int64  \n",
      "dtypes: float64(2), int64(8), uint8(3)\n",
      "memory usage: 810.7 KB\n"
     ]
    }
   ],
   "source": [
    "data.info()"
   ]
  },
  {
   "cell_type": "markdown",
   "id": "10413025",
   "metadata": {
    "papermill": {
     "duration": 0.059159,
     "end_time": "2021-10-31T18:12:46.794907",
     "exception": false,
     "start_time": "2021-10-31T18:12:46.735748",
     "status": "completed"
    },
    "tags": []
   },
   "source": [
    "- <h2 style=\"color:#009b96\">Every thing seems to be good.</h2>\n",
    "- <h2 style=\"color:tomato\">What about scaling ?!</h2>\n",
    "- <h2 style = \"color:#009b96\">I will do that in part 6-1, after the visualiaztion and storytelling.</h2>"
   ]
  },
  {
   "cell_type": "markdown",
   "id": "50f51d9f",
   "metadata": {
    "papermill": {
     "duration": 0.056653,
     "end_time": "2021-10-31T18:12:46.908570",
     "exception": false,
     "start_time": "2021-10-31T18:12:46.851917",
     "status": "completed"
    },
    "tags": []
   },
   "source": [
    "<a id = \"5\"></a>\n",
    "## 5. Strorytelling - Visualization"
   ]
  },
  {
   "cell_type": "markdown",
   "id": "2eb9e1e5",
   "metadata": {
    "papermill": {
     "duration": 0.056342,
     "end_time": "2021-10-31T18:12:47.021681",
     "exception": false,
     "start_time": "2021-10-31T18:12:46.965339",
     "status": "completed"
    },
    "tags": []
   },
   "source": [
    "<a id = \"5_1\"></a>"
   ]
  },
  {
   "cell_type": "code",
   "execution_count": 14,
   "id": "6dc2a8ae",
   "metadata": {
    "execution": {
     "iopub.execute_input": "2021-10-31T18:12:47.138584Z",
     "iopub.status.busy": "2021-10-31T18:12:47.137928Z",
     "iopub.status.idle": "2021-10-31T18:12:48.356925Z",
     "shell.execute_reply": "2021-10-31T18:12:48.357458Z",
     "shell.execute_reply.started": "2021-10-31T18:03:33.698589Z"
    },
    "papermill": {
     "duration": 1.278913,
     "end_time": "2021-10-31T18:12:48.357644",
     "exception": false,
     "start_time": "2021-10-31T18:12:47.078731",
     "status": "completed"
    },
    "tags": []
   },
   "outputs": [
    {
     "data": {
      "image/png": "[encoded data removed]",
      "text/plain": [
       "<Figure size 864x504 with 2 Axes>"
      ]
     },
     "metadata": {
      "needs_background": "light"
     },
     "output_type": "display_data"
    }
   ],
   "source": [
    "plt.figure(figsize = (12,7))\n",
    "sns.heatmap(data = data.corr() , cmap = 'rocket' , annot = True , fmt = '.2f')\n",
    "plt.show()"
   ]
  },
  {
   "cell_type": "markdown",
   "id": "5b1d3209",
   "metadata": {
    "papermill": {
     "duration": 0.059134,
     "end_time": "2021-10-31T18:12:48.476510",
     "exception": false,
     "start_time": "2021-10-31T18:12:48.417376",
     "status": "completed"
    },
    "tags": []
   },
   "source": [
    "<h2 style=\"color:#005b96\">5-1. Heat map results :</h2>\n",
    "\n",
    "- <h3 style=\"color:#009b96\">There is not a strong <u>linear relation</u> between target and input features.</h3>\n",
    "- <h3 style=\"color:#009b96\">But between all the input features, age, belonging to Germany, being an active member and balance are more linearly related to the target.</h3>"
   ]
  },
  {
   "cell_type": "markdown",
   "id": "90d08045",
   "metadata": {
    "papermill": {
     "duration": 0.060004,
     "end_time": "2021-10-31T18:12:48.596513",
     "exception": false,
     "start_time": "2021-10-31T18:12:48.536509",
     "status": "completed"
    },
    "tags": []
   },
   "source": [
    "<a id = \"5_2\"></a>"
   ]
  },
  {
   "cell_type": "code",
   "execution_count": 15,
   "id": "ed7edbf9",
   "metadata": {
    "execution": {
     "iopub.execute_input": "2021-10-31T18:12:48.720509Z",
     "iopub.status.busy": "2021-10-31T18:12:48.719503Z",
     "iopub.status.idle": "2021-10-31T18:12:49.058295Z",
     "shell.execute_reply": "2021-10-31T18:12:49.058792Z",
     "shell.execute_reply.started": "2021-10-31T18:03:34.862414Z"
    },
    "papermill": {
     "duration": 0.401999,
     "end_time": "2021-10-31T18:12:49.058959",
     "exception": false,
     "start_time": "2021-10-31T18:12:48.656960",
     "status": "completed"
    },
    "tags": []
   },
   "outputs": [
    {
     "data": {
      "image/png": "[encoded data removed]",
      "text/plain": [
       "<Figure size 432x288 with 3 Axes>"
      ]
     },
     "metadata": {},
     "output_type": "display_data"
    }
   ],
   "source": [
    "plt_fnt = {'family':'serif' , 'size':16}\n",
    "\n",
    "plt.subplots_adjust(left = 1 , bottom = 1 , right = 2.8 , top = 2 , wspace = 0.5 , hspace = None)\n",
    "plt.subplot(1,3,1)\n",
    "plt.pie(x = [len(data[data['Exited'] == 1]) , len(data[data['Exited'] == 0])]  , labels = ['Exited' , 'Stayed'],\n",
    "       autopct = '%.2f %%' , shadow = True , explode = [0.3,0] , colors = ['tab:cyan' , 'tab:olive'])\n",
    "plt.title(\"Churn Rate\" , fontdict = plt_fnt)\n",
    "\n",
    "plt.subplot(1,3,2)\n",
    "plt.pie(x = [ len(data[(data.Exited == 1) & (data.Gender == 1)]) , len(data[(data.Exited == 1) & (data.Gender == 0)]) ]\n",
    "       , labels = ['Male' , 'Female'] , shadow = True , explode = [0.2,0] , startangle = -40 , autopct = '%.2f %%'\n",
    "       , colors = ['darkblue','deeppink'])\n",
    "plt.title('Exited customers\\nMale VS Female' , fontdict = plt_fnt)\n",
    "\n",
    "plt.subplot(1,3,3)\n",
    "plt.pie(x = [len(data[(data.Exited == 1) & (data.IsActiveMember == 0)]),len(data[(data.Exited == 1)&(data.IsActiveMember==1)])]\n",
    "       , labels = ['Inactive' , 'Active'] , autopct = '%.2f %%' , shadow = True , explode = [0.1,0] \n",
    "       , startangle = 40)\n",
    "plt.title('Exited customers\\nActive VS Inactive' , fontdict = plt_fnt)\n",
    "\n",
    "\n",
    "plt.show()"
   ]
  },
  {
   "cell_type": "markdown",
   "id": "f6885812",
   "metadata": {
    "papermill": {
     "duration": 0.060888,
     "end_time": "2021-10-31T18:12:49.181957",
     "exception": false,
     "start_time": "2021-10-31T18:12:49.121069",
     "status": "completed"
    },
    "tags": []
   },
   "source": [
    "<h2 style=\"color:#005b96\">5-2. Pie plot results:</h2>\n",
    "\n",
    "- <h3 style=\"color:#009b96\">Simply out of every 10 customers, 2 of them have exited.</h3>\n",
    "- <h3 style=\"color:#009b96\">The second plot is showing that the churn rate is higher between female customers.</h3>\n",
    "- <h3 style=\"color:#009b96\">So its more probable to lose a female customer.</h3> \n",
    "- <h3 style=\"color:#009b96\">Also from the third plot it's obvious that the probability of losing an inactive customer is higher.</h3> "
   ]
  },
  {
   "cell_type": "markdown",
   "id": "f06a871c",
   "metadata": {
    "papermill": {
     "duration": 0.06149,
     "end_time": "2021-10-31T18:12:49.304806",
     "exception": false,
     "start_time": "2021-10-31T18:12:49.243316",
     "status": "completed"
    },
    "tags": []
   },
   "source": [
    "<a id = \"5_3\"></a>"
   ]
  },
  {
   "cell_type": "code",
   "execution_count": 16,
   "id": "edd55d34",
   "metadata": {
    "execution": {
     "iopub.execute_input": "2021-10-31T18:12:49.436786Z",
     "iopub.status.busy": "2021-10-31T18:12:49.435726Z",
     "iopub.status.idle": "2021-10-31T18:12:49.839814Z",
     "shell.execute_reply": "2021-10-31T18:12:49.839252Z",
     "shell.execute_reply.started": "2021-10-31T18:03:35.232491Z"
    },
    "papermill": {
     "duration": 0.47402,
     "end_time": "2021-10-31T18:12:49.839961",
     "exception": false,
     "start_time": "2021-10-31T18:12:49.365941",
     "status": "completed"
    },
    "tags": []
   },
   "outputs": [
    {
     "data": {
      "image/png": "[encoded data removed]",
      "text/plain": [
       "<Figure size 360x360 with 1 Axes>"
      ]
     },
     "metadata": {
      "needs_background": "light"
     },
     "output_type": "display_data"
    }
   ],
   "source": [
    "age_kernel_exited = data[data.Exited == 1]['Age'].mode()[0]\n",
    "age_kernel_stayed = data[data.Exited == 0]['Age'].mode()[0]\n",
    "sns.displot(data = data , x = 'Age' , hue = 'Exited' , fill = True , kind = 'kde' , legend = False , alpha = 0.1)\n",
    "plt.legend(labels = ['Exited' , 'Stayed'])\n",
    "plt.plot([49 , 49] , [0.001,0.015] , linestyle = '--' , c = 'tab:red' , alpha = 0.8)\n",
    "plt.plot([59 , 59] , [0.001,0.015] , linestyle = '--' , c = 'tab:red' , alpha = 0.8)\n",
    "plt.title('Customers age distribution' , fontdict = plt_fnt)\n",
    "plt.text(53 , 0.007 ,'Dangerous range' , rotation = 90 , color ='tab:red')\n",
    "plt.show()"
   ]
  },
  {
   "cell_type": "markdown",
   "id": "ba4af815",
   "metadata": {
    "papermill": {
     "duration": 0.062822,
     "end_time": "2021-10-31T18:12:49.965396",
     "exception": false,
     "start_time": "2021-10-31T18:12:49.902574",
     "status": "completed"
    },
    "tags": []
   },
   "source": [
    "<h2 style=\"color:#005b96\">5-3. KDE results:</h2>\n",
    "\n",
    "- <h3 style=\"color:#009b96\">The plot is showing that approximately between 49 and 59 there is a <u>dangerous range.</u> </h3>\n",
    "- <h3 style=\"color:#009b96\">Which the number of exiting customers is more than the number of customers who stayed.</h3>\n",
    "- <h3 style=\"color:#009b96\">So there is a higher probability to lose a customer with age from 49 to 59 years old.</h3> "
   ]
  },
  {
   "cell_type": "markdown",
   "id": "c9e88a58",
   "metadata": {
    "papermill": {
     "duration": 0.061931,
     "end_time": "2021-10-31T18:12:50.090262",
     "exception": false,
     "start_time": "2021-10-31T18:12:50.028331",
     "status": "completed"
    },
    "tags": []
   },
   "source": [
    "<a id = \"5_4\"></a>"
   ]
  },
  {
   "cell_type": "code",
   "execution_count": 17,
   "id": "ea06b0ec",
   "metadata": {
    "execution": {
     "iopub.execute_input": "2021-10-31T18:12:50.218466Z",
     "iopub.status.busy": "2021-10-31T18:12:50.217781Z",
     "iopub.status.idle": "2021-10-31T18:12:50.445039Z",
     "shell.execute_reply": "2021-10-31T18:12:50.444513Z",
     "shell.execute_reply.started": "2021-10-31T18:03:35.696318Z"
    },
    "papermill": {
     "duration": 0.292673,
     "end_time": "2021-10-31T18:12:50.445201",
     "exception": false,
     "start_time": "2021-10-31T18:12:50.152528",
     "status": "completed"
    },
    "scrolled": true,
    "tags": []
   },
   "outputs": [
    {
     "data": {
      "image/png": "[encoded data removed]",
      "text/plain": [
       "<Figure size 432x288 with 1 Axes>"
      ]
     },
     "metadata": {
      "needs_background": "light"
     },
     "output_type": "display_data"
    }
   ],
   "source": [
    "# by num_german --> i mean total german customers\n",
    "num_german = len(data[data.Germany == 1])\n",
    "num_french = len(data[data.France == 1])\n",
    "num_spanish = len(data[data.Spain == 1])\n",
    "\n",
    "# by ex_german --> i mean exited german customers\n",
    "ex_german = len(data[(data.Germany == 1) & (data.Exited == 1)])\n",
    "ex_french = len(data[(data.France == 1) & (data.Exited == 1)])\n",
    "ex_spanish = len(data[(data.Spain == 1) & (data.Exited == 1)])\n",
    "\n",
    "# by german_ex_rate --> i mean exit rate of german customers\n",
    "german_ex_rate = ex_german/num_german\n",
    "french_ex_rate = ex_french/num_french\n",
    "spanish_ex_rate = ex_spanish/num_spanish\n",
    "\n",
    "plt.ylim(0,6000)\n",
    "plt.bar(x = ['German' , 'French' , 'Spanish'] , height = [num_german , num_french , num_spanish])\n",
    "plt.bar(x = ['German' , 'French' , 'Spanish'] , height = [ex_german , ex_french , ex_spanish])\n",
    "\n",
    "color_legend = {'Total':'tab:blue' , 'Exited':'tab:orange'}\n",
    "handles = [Line2D([0], [0], marker='s', color='w', markerfacecolor=v, label=k, markersize=8) for k, v in color_legend.items()]\n",
    "plt.legend(handles=handles, bbox_to_anchor=(1.05, 1), loc='upper left')\n",
    "\n",
    "plt.title('Customer exit rate with respect of their region' , fontdict = plt_fnt)\n",
    "plt.ylabel('Count')\n",
    "\n",
    "small_font = {'family':'serif' , 'size':12}\n",
    "plt.text('German' , 1000 , \"{:.1f}%\".format(german_ex_rate*100) , fontdict = small_font)\n",
    "plt.text('French' , 1000 , \"{:.1f} %\".format(french_ex_rate*100) , fontdict = small_font)\n",
    "plt.text('Spanish' , 600 , \"{:.1f} %\".format(spanish_ex_rate*100) , fontdict = small_font)\n",
    "\n",
    "plt.show()"
   ]
  },
  {
   "cell_type": "markdown",
   "id": "58f41ebd",
   "metadata": {
    "papermill": {
     "duration": 0.062917,
     "end_time": "2021-10-31T18:12:50.571422",
     "exception": false,
     "start_time": "2021-10-31T18:12:50.508505",
     "status": "completed"
    },
    "tags": []
   },
   "source": [
    "<h2 style=\"color:#005b96\">5-4. Bar plot results:</h2>\n",
    "\n",
    "- <h3 style=\"color:#009b96\">Most of our customers are French.</h3>\n",
    "- <h3 style=\"color:#009b96\">German customers have the highest exit rate (32.4%).</h3>\n",
    "- <h3 style=\"color:#009b96\">So there is a higher probability to lose a German customer.</h3> "
   ]
  },
  {
   "cell_type": "markdown",
   "id": "c4df5b25",
   "metadata": {
    "papermill": {
     "duration": 0.06267,
     "end_time": "2021-10-31T18:12:50.697447",
     "exception": false,
     "start_time": "2021-10-31T18:12:50.634777",
     "status": "completed"
    },
    "tags": []
   },
   "source": [
    "<a id = \"5_5\"></a>"
   ]
  },
  {
   "cell_type": "code",
   "execution_count": 18,
   "id": "27b711f6",
   "metadata": {
    "execution": {
     "iopub.execute_input": "2021-10-31T18:12:50.833017Z",
     "iopub.status.busy": "2021-10-31T18:12:50.832343Z",
     "iopub.status.idle": "2021-10-31T18:12:51.193541Z",
     "shell.execute_reply": "2021-10-31T18:12:51.192814Z",
     "shell.execute_reply.started": "2021-10-31T18:03:35.956855Z"
    },
    "papermill": {
     "duration": 0.432851,
     "end_time": "2021-10-31T18:12:51.193693",
     "exception": false,
     "start_time": "2021-10-31T18:12:50.760842",
     "status": "completed"
    },
    "tags": []
   },
   "outputs": [
    {
     "data": {
      "image/png": "[encoded data removed]",
      "text/plain": [
       "<Figure size 360x360 with 1 Axes>"
      ]
     },
     "metadata": {
      "needs_background": "light"
     },
     "output_type": "display_data"
    }
   ],
   "source": [
    "sns.catplot(data = data , x = 'Exited'  , y = 'Balance' , kind = 'bar' , color = 'tab:green')\n",
    "plt.plot([0,1.4],[data[data.Exited == 0]['Balance'].mean(),data[data.Exited == 0]['Balance'].mean()],linestyle = '--' , c ='k'\n",
    "         , alpha = 0.8)\n",
    "plt.show()"
   ]
  },
  {
   "cell_type": "markdown",
   "id": "095613a0",
   "metadata": {
    "papermill": {
     "duration": 0.063591,
     "end_time": "2021-10-31T18:12:51.322060",
     "exception": false,
     "start_time": "2021-10-31T18:12:51.258469",
     "status": "completed"
    },
    "tags": []
   },
   "source": [
    "<h2 style=\"color:#005b96\">5-5. Bar plot results:</h2>\n",
    "\n",
    "- <h3 style=\"color:#009b96\">It seems that exited customers are richer(due to their accounts not the estimated salary) !</h3>"
   ]
  },
  {
   "cell_type": "code",
   "execution_count": 19,
   "id": "1d346584",
   "metadata": {
    "execution": {
     "iopub.execute_input": "2021-10-31T18:12:51.457431Z",
     "iopub.status.busy": "2021-10-31T18:12:51.456586Z",
     "iopub.status.idle": "2021-10-31T18:12:51.459752Z",
     "shell.execute_reply": "2021-10-31T18:12:51.460257Z",
     "shell.execute_reply.started": "2021-10-31T18:03:36.337872Z"
    },
    "papermill": {
     "duration": 0.074573,
     "end_time": "2021-10-31T18:12:51.460426",
     "exception": false,
     "start_time": "2021-10-31T18:12:51.385853",
     "status": "completed"
    },
    "tags": []
   },
   "outputs": [
    {
     "data": {
      "text/plain": [
       "1    5084\n",
       "2    4590\n",
       "3     266\n",
       "4      60\n",
       "Name: NumOfProducts, dtype: int64"
      ]
     },
     "execution_count": 19,
     "metadata": {},
     "output_type": "execute_result"
    }
   ],
   "source": [
    "data.NumOfProducts.value_counts()"
   ]
  },
  {
   "cell_type": "markdown",
   "id": "d3170f7f",
   "metadata": {
    "papermill": {
     "duration": 0.06345,
     "end_time": "2021-10-31T18:12:51.587774",
     "exception": false,
     "start_time": "2021-10-31T18:12:51.524324",
     "status": "completed"
    },
    "tags": []
   },
   "source": [
    "<a id = \"5_6\"></a>"
   ]
  },
  {
   "cell_type": "code",
   "execution_count": 20,
   "id": "7fd622a3",
   "metadata": {
    "execution": {
     "iopub.execute_input": "2021-10-31T18:12:51.720411Z",
     "iopub.status.busy": "2021-10-31T18:12:51.719335Z",
     "iopub.status.idle": "2021-10-31T18:12:51.945121Z",
     "shell.execute_reply": "2021-10-31T18:12:51.945629Z",
     "shell.execute_reply.started": "2021-10-31T18:03:36.349626Z"
    },
    "papermill": {
     "duration": 0.294115,
     "end_time": "2021-10-31T18:12:51.945794",
     "exception": false,
     "start_time": "2021-10-31T18:12:51.651679",
     "status": "completed"
    },
    "tags": []
   },
   "outputs": [
    {
     "data": {
      "image/png": "[encoded data removed]",
      "text/plain": [
       "<Figure size 432x288 with 1 Axes>"
      ]
     },
     "metadata": {
      "needs_background": "light"
     },
     "output_type": "display_data"
    }
   ],
   "source": [
    "# num_p1 --> number of customers with 1 purchased product\n",
    "num_p1 = len(data[data.NumOfProducts == 1])\n",
    "num_p2 = len(data[data.NumOfProducts == 2])\n",
    "num_p3 = len(data[data.NumOfProducts == 3])\n",
    "num_p4 = len(data[data.NumOfProducts == 4])\n",
    "\n",
    "# ex_p1 --> number of exited customers who purchased 1 product\n",
    "ex_p1 = len(data[(data.NumOfProducts == 1) & (data.Exited == 1)])\n",
    "ex_p2 = len(data[(data.NumOfProducts == 2) & (data.Exited == 1)]) \n",
    "ex_p3 = len(data[(data.NumOfProducts == 3) & (data.Exited == 1)])\n",
    "ex_p4 = len(data[(data.NumOfProducts == 4) & (data.Exited == 1)])\n",
    "\n",
    "p1_ex_rate = ex_p1/num_p1\n",
    "p2_ex_rate = ex_p2/num_p2\n",
    "p3_ex_rate = ex_p3/num_p3\n",
    "p4_ex_rate = ex_p4/num_p4\n",
    "\n",
    "plt.barh(y = ['1_product','2_products','3_products','4_products'] , width = [num_p1,num_p2,num_p3,num_p4], color = 'tab:green')\n",
    "plt.barh(y = ['1_product','2_products','3_products','4_products'] , width = [ex_p1,ex_p2,ex_p3,ex_p4] , color = 'darkred')\n",
    "\n",
    "plt.xlim(0,6000)\n",
    "\n",
    "plt.text(200 , '4_products','{:.1f} %'.format(p4_ex_rate*100),fontdict = small_font)\n",
    "plt.text(400 , '3_products','{:.1f} %'.format(p3_ex_rate*100),fontdict = small_font)\n",
    "plt.text(4700 , '2_products','{:.1f} %'.format(p2_ex_rate*100),fontdict = small_font)\n",
    "plt.text(5200 , '1_product','{:.1f} %'.format(p1_ex_rate*100), fontdict = small_font)\n",
    "\n",
    "plt.title('Churn rate VS number of purchased products' , fontdict = plt_fnt)\n",
    "plt.xlabel('Number of customers')\n",
    "\n",
    "plt.show()"
   ]
  },
  {
   "cell_type": "markdown",
   "id": "b3bc8a2e",
   "metadata": {
    "papermill": {
     "duration": 0.066234,
     "end_time": "2021-10-31T18:12:52.077525",
     "exception": false,
     "start_time": "2021-10-31T18:12:52.011291",
     "status": "completed"
    },
    "tags": []
   },
   "source": [
    "<h2 style=\"color:#005b96\">5-6. Bar plot results:</h2>\n",
    "\n",
    "- <h3 style=\"color:tomato\">It's too weird, that we losed all 60 customers who have purchased 4 products.</h3>\n",
    "- <h3 style=\"color:#009b96\">Also we have a big churn rate in customers who have have purchased 3 products.</h3>\n",
    "- <h3 style=\"color:#009b96\">More products are not satisfying the customers.</h3>\n",
    "- <h3 style=\"color:#009b96\">Maybe there is a problem in services of the products.</h3>"
   ]
  },
  {
   "cell_type": "markdown",
   "id": "0ebcdcdd",
   "metadata": {
    "papermill": {
     "duration": 0.065401,
     "end_time": "2021-10-31T18:12:52.208363",
     "exception": false,
     "start_time": "2021-10-31T18:12:52.142962",
     "status": "completed"
    },
    "tags": []
   },
   "source": [
    "<a id = \"6\"></a>\n",
    "## 6. Prepare Data for Machine learning"
   ]
  },
  {
   "cell_type": "markdown",
   "id": "2aa9cab4",
   "metadata": {
    "papermill": {
     "duration": 0.066262,
     "end_time": "2021-10-31T18:12:52.340610",
     "exception": false,
     "start_time": "2021-10-31T18:12:52.274348",
     "status": "completed"
    },
    "tags": []
   },
   "source": [
    "<a id = \"6_1\"></a>\n",
    "<h2 style=\"color:#005b96\">6-1. Train_test split:</h2>"
   ]
  },
  {
   "cell_type": "code",
   "execution_count": 21,
   "id": "5b6c4bb3",
   "metadata": {
    "execution": {
     "iopub.execute_input": "2021-10-31T18:12:52.478706Z",
     "iopub.status.busy": "2021-10-31T18:12:52.478011Z",
     "iopub.status.idle": "2021-10-31T18:12:52.487354Z",
     "shell.execute_reply": "2021-10-31T18:12:52.488336Z",
     "shell.execute_reply.started": "2021-10-31T18:03:36.587586Z"
    },
    "papermill": {
     "duration": 0.082814,
     "end_time": "2021-10-31T18:12:52.488626",
     "exception": false,
     "start_time": "2021-10-31T18:12:52.405812",
     "status": "completed"
    },
    "tags": []
   },
   "outputs": [
    {
     "name": "stdout",
     "output_type": "stream",
     "text": [
      "x_train shape --> (8000, 12)\n",
      "y_train shape --> (8000,)\n",
      "x_test shape  --> (2000, 12)\n",
      "y_test shape  --> (2000,)\n"
     ]
    }
   ],
   "source": [
    "x_set = data.iloc[:,:-1].values\n",
    "y_set = data.iloc[:,-1]\n",
    "\n",
    "x_train , x_test , y_train , y_test = train_test_split(x_set , y_set , test_size = 0.2 \n",
    "                                                       , random_state = 1)\n",
    "\n",
    "print(\"x_train shape -->\", x_train.shape)\n",
    "print(\"y_train shape -->\",y_train.shape)\n",
    "print(\"x_test shape  -->\",x_test.shape)\n",
    "print(\"y_test shape  -->\",y_test.shape)"
   ]
  },
  {
   "cell_type": "markdown",
   "id": "fb947287",
   "metadata": {
    "papermill": {
     "duration": 0.064574,
     "end_time": "2021-10-31T18:12:52.619958",
     "exception": false,
     "start_time": "2021-10-31T18:12:52.555384",
     "status": "completed"
    },
    "tags": []
   },
   "source": [
    "<a id = \"6_2\"></a>\n",
    "<h2 style=\"color:#005b96\">6-2. Scaling:</h2>"
   ]
  },
  {
   "cell_type": "code",
   "execution_count": 22,
   "id": "4259c7de",
   "metadata": {
    "execution": {
     "iopub.execute_input": "2021-10-31T18:12:52.753575Z",
     "iopub.status.busy": "2021-10-31T18:12:52.752890Z",
     "iopub.status.idle": "2021-10-31T18:12:52.761584Z",
     "shell.execute_reply": "2021-10-31T18:12:52.760955Z",
     "shell.execute_reply.started": "2021-10-31T18:03:36.606042Z"
    },
    "papermill": {
     "duration": 0.076655,
     "end_time": "2021-10-31T18:12:52.761730",
     "exception": false,
     "start_time": "2021-10-31T18:12:52.685075",
     "status": "completed"
    },
    "tags": []
   },
   "outputs": [],
   "source": [
    "sc = StandardScaler()\n",
    "\n",
    "x_train = sc.fit_transform(x_train)\n",
    "x_test = sc.transform(x_test)"
   ]
  },
  {
   "cell_type": "markdown",
   "id": "ee80e568",
   "metadata": {
    "papermill": {
     "duration": 0.066843,
     "end_time": "2021-10-31T18:12:52.895272",
     "exception": false,
     "start_time": "2021-10-31T18:12:52.828429",
     "status": "completed"
    },
    "tags": []
   },
   "source": [
    "<a id = \"6_3\"></a>\n",
    "<h2 style=\"color:#005b96\">6_3. SMOTE (a.k.a. synthetic minority over-sampling technique):</h2>"
   ]
  },
  {
   "cell_type": "markdown",
   "id": "ff644757",
   "metadata": {
    "papermill": {
     "duration": 0.065565,
     "end_time": "2021-10-31T18:12:53.026611",
     "exception": false,
     "start_time": "2021-10-31T18:12:52.961046",
     "status": "completed"
    },
    "tags": []
   },
   "source": [
    "- <h3 style=\"color:#009b96\">Until now we have our train and test sets ready.</h3>\n",
    "- <h3 style=\"color:#009b96\">But the distribution of y_train is imbalanced (you will see it a few steps later).</h3>\n",
    "- <h3 style=\"color:#009b96\">This makes machine learning classifier tends to be more biased towards the majority class.</h3>\n",
    "- <h3 style=\"color:#009b96\">There are some techniques to solve this problem, here i will use SMOTE.</h3>\n",
    "\n",
    "<h2 style=\"color:tomato\">Note :</h2>\n",
    "<h3 style=\"color:tomato\">For a robust evaluation, there isn't any synthetic sample in the test set !</h3>"
   ]
  },
  {
   "cell_type": "code",
   "execution_count": 23,
   "id": "7aeee252",
   "metadata": {
    "execution": {
     "iopub.execute_input": "2021-10-31T18:12:53.163351Z",
     "iopub.status.busy": "2021-10-31T18:12:53.162672Z",
     "iopub.status.idle": "2021-10-31T18:12:53.224038Z",
     "shell.execute_reply": "2021-10-31T18:12:53.224674Z",
     "shell.execute_reply.started": "2021-10-31T18:03:36.618454Z"
    },
    "papermill": {
     "duration": 0.132059,
     "end_time": "2021-10-31T18:12:53.224861",
     "exception": false,
     "start_time": "2021-10-31T18:12:53.092802",
     "status": "completed"
    },
    "tags": []
   },
   "outputs": [],
   "source": [
    "oversample = SMOTE(random_state = 1 , k_neighbors = 5)\n",
    "x_train_resample , y_train_resample = oversample.fit_resample(x_train , y_train)"
   ]
  },
  {
   "cell_type": "code",
   "execution_count": 24,
   "id": "5924448c",
   "metadata": {
    "execution": {
     "iopub.execute_input": "2021-10-31T18:12:53.359891Z",
     "iopub.status.busy": "2021-10-31T18:12:53.359220Z",
     "iopub.status.idle": "2021-10-31T18:12:53.624544Z",
     "shell.execute_reply": "2021-10-31T18:12:53.623986Z",
     "shell.execute_reply.started": "2021-10-31T18:03:36.686546Z"
    },
    "papermill": {
     "duration": 0.333631,
     "end_time": "2021-10-31T18:12:53.624689",
     "exception": false,
     "start_time": "2021-10-31T18:12:53.291058",
     "status": "completed"
    },
    "tags": []
   },
   "outputs": [
    {
     "data": {
      "image/png": "[encoded data removed]",
      "text/plain": [
       "<Figure size 432x288 with 2 Axes>"
      ]
     },
     "metadata": {
      "needs_background": "light"
     },
     "output_type": "display_data"
    }
   ],
   "source": [
    "# org_true --> original true class (1)\n",
    "org_true = 0\n",
    "org_false = 0\n",
    "\n",
    "# ovr_true --> over_sampled true class\n",
    "ovr_true = 0\n",
    "ovr_false = 0\n",
    "\n",
    "for item in y_train:\n",
    "    if item == 1:\n",
    "        org_true += 1\n",
    "    elif item == 0:\n",
    "        org_false += 1\n",
    "\n",
    "for item in y_train_resample:\n",
    "    if item == 1:\n",
    "        ovr_true += 1\n",
    "    elif item == 0:\n",
    "        ovr_false += 1\n",
    "\n",
    "plt.subplots_adjust(left = 1 , bottom = 1 , right = 2.3 , top = 2 , wspace = 0.5 , hspace = None)\n",
    "plt.subplot(1,2,1)\n",
    "plt.bar(x = ['Exited' , 'Stayed'] , height = [org_true , org_false] , color = 'tab:olive')\n",
    "plt.title('y_train Before SMOTE',fontdict = plt_fnt)\n",
    "\n",
    "plt.subplot(1,2,2)\n",
    "plt.bar(x = ['Exited' , 'Stayed'] , height = [ovr_true , ovr_false] , color = 'tab:red')\n",
    "plt.title('y_train After SMOTE' , fontdict = plt_fnt)\n",
    "plt.show()"
   ]
  },
  {
   "cell_type": "markdown",
   "id": "3e2e06eb",
   "metadata": {
    "papermill": {
     "duration": 0.066066,
     "end_time": "2021-10-31T18:12:53.757339",
     "exception": false,
     "start_time": "2021-10-31T18:12:53.691273",
     "status": "completed"
    },
    "tags": []
   },
   "source": [
    "<a id = \"7\"></a>\n",
    "## 7. Train the model"
   ]
  },
  {
   "cell_type": "markdown",
   "id": "36dda7df",
   "metadata": {
    "papermill": {
     "duration": 0.067642,
     "end_time": "2021-10-31T18:12:53.892446",
     "exception": false,
     "start_time": "2021-10-31T18:12:53.824804",
     "status": "completed"
    },
    "tags": []
   },
   "source": [
    "<a id = \"7_1\"></a>\n",
    "<h2 style=\"color:#005b96\">7_1. Logistic regression</h2>"
   ]
  },
  {
   "cell_type": "code",
   "execution_count": 25,
   "id": "a7393dd5",
   "metadata": {
    "execution": {
     "iopub.execute_input": "2021-10-31T18:12:54.033924Z",
     "iopub.status.busy": "2021-10-31T18:12:54.030205Z",
     "iopub.status.idle": "2021-10-31T18:12:54.086621Z",
     "shell.execute_reply": "2021-10-31T18:12:54.087783Z",
     "shell.execute_reply.started": "2021-10-31T18:03:36.967167Z"
    },
    "papermill": {
     "duration": 0.128202,
     "end_time": "2021-10-31T18:12:54.088098",
     "exception": false,
     "start_time": "2021-10-31T18:12:53.959896",
     "status": "completed"
    },
    "tags": []
   },
   "outputs": [
    {
     "name": "stdout",
     "output_type": "stream",
     "text": [
      "Logistic regression trained with original trainset --> accuracy of prediction on test = 0.812\n",
      "Logistic regression trained with oversampled trainset --> accuracy of prediction on test = 0.723\n"
     ]
    }
   ],
   "source": [
    "# lr_org --> logistic regression with original trainset\n",
    "lr_org = LogisticRegression()\n",
    "lr_org.fit(x_train , y_train)\n",
    "pred_lr_org = lr_org.predict(x_test)\n",
    "\n",
    "# lr_ovr --> Logistic regression with oversampled trainset\n",
    "lr_ovr = LogisticRegression()\n",
    "lr_ovr.fit(x_train_resample , y_train_resample)\n",
    "pred_lr_ovr = lr_ovr.predict(x_test)\n",
    "\n",
    "lr_org_acc = metrics.accuracy_score(y_test , pred_lr_org)\n",
    "lr_ovr_acc = metrics.accuracy_score(y_test , pred_lr_ovr)\n",
    "print(\"Logistic regression trained with original trainset --> accuracy of prediction on test = {:.3f}\".format(lr_org_acc))\n",
    "print(\"Logistic regression trained with oversampled trainset --> accuracy of prediction on test = {:.3f}\".format(lr_ovr_acc))"
   ]
  },
  {
   "cell_type": "markdown",
   "id": "dae59905",
   "metadata": {
    "papermill": {
     "duration": 0.080144,
     "end_time": "2021-10-31T18:12:54.292310",
     "exception": false,
     "start_time": "2021-10-31T18:12:54.212166",
     "status": "completed"
    },
    "tags": []
   },
   "source": [
    "<a id = \"7_1_2\"></a>\n",
    "<h2 style=\"color:#005b96\">7_1_2. What's the effect of SMOTE ?</h2>\n",
    "\n",
    "- <h2 style=\"color:#009b96\">As you see we have got better accuracy without SMOTE.</h2>\n",
    "- <h2 style=\"color:tomato\">So is SMOTE making the result worse ???</h2>\n",
    "- <h2 style=\"color:tomato\">The answer is NO!</h2>\n",
    "<h2 style=\"color:#009b96\">Let's take a look at the confusion matrices :</h2>"
   ]
  },
  {
   "cell_type": "code",
   "execution_count": 26,
   "id": "ccca9555",
   "metadata": {
    "execution": {
     "iopub.execute_input": "2021-10-31T18:12:54.432797Z",
     "iopub.status.busy": "2021-10-31T18:12:54.432130Z",
     "iopub.status.idle": "2021-10-31T18:12:54.663384Z",
     "shell.execute_reply": "2021-10-31T18:12:54.663967Z",
     "shell.execute_reply.started": "2021-10-31T18:03:37.026746Z"
    },
    "papermill": {
     "duration": 0.305564,
     "end_time": "2021-10-31T18:12:54.664135",
     "exception": false,
     "start_time": "2021-10-31T18:12:54.358571",
     "status": "completed"
    },
    "tags": []
   },
   "outputs": [
    {
     "data": {
      "image/png": "[encoded data removed]",
      "text/plain": [
       "<Figure size 432x288 with 2 Axes>"
      ]
     },
     "metadata": {
      "needs_background": "light"
     },
     "output_type": "display_data"
    }
   ],
   "source": [
    "plt.subplots_adjust(left = 1 , bottom = 1 , right = 2.3 , top = 2 , wspace = 0.5 , hspace = None)\n",
    "\n",
    "plt.subplot(1,2,1)\n",
    "plt.title('Trained with original trainset' , fontdict = small_font)\n",
    "sns.heatmap(data = metrics.confusion_matrix(y_test , pred_lr_org) , annot = True , fmt = '.0f' , cmap = 'viridis'\n",
    "            , cbar = False , square = True)\n",
    "\n",
    "plt.subplot(1,2,2)\n",
    "plt.title('Trained with oversampled trainset' , fontdict = small_font)\n",
    "sns.heatmap(data = metrics.confusion_matrix(y_test , pred_lr_ovr) , annot = True , fmt = '.0f' , cmap = 'viridis'\n",
    "           , cbar = False , square = True)\n",
    "\n",
    "\n",
    "\n",
    "plt.show()"
   ]
  },
  {
   "cell_type": "markdown",
   "id": "3c8c8405",
   "metadata": {
    "papermill": {
     "duration": 0.072028,
     "end_time": "2021-10-31T18:12:54.803332",
     "exception": false,
     "start_time": "2021-10-31T18:12:54.731304",
     "status": "completed"
    },
    "tags": []
   },
   "source": [
    "- <h2 style=\"color:#009b96\">Imagine that we are the owner of this business, we want to find exiting customers,\n",
    "it's not really important for us to predict a customer that will stay (in real scenario), as an exiting customer (a.k.a. FN or false negative).</h2>\n",
    "- <h2 style=\"color:#009b96\">But it will be costly for us, if we predict a customer that  will exit ( in real scenario), as an staying customer (a.k.a. FP or false positive).</h2>\n",
    "- <h2 style=\"color:tomato\">So we conclude that in this problem FP is more important for us.</h2>\n",
    "- <h3 style=\"color:tomato\">So we should also use another evaluation parameter named precision ( TP / (TP + FP) )</h3>\n",
    "<h2 style=\"color:tomato\">Let's compare the precisions :</h2>"
   ]
  },
  {
   "cell_type": "code",
   "execution_count": 27,
   "id": "08ee7906",
   "metadata": {
    "execution": {
     "iopub.execute_input": "2021-10-31T18:12:54.942662Z",
     "iopub.status.busy": "2021-10-31T18:12:54.942012Z",
     "iopub.status.idle": "2021-10-31T18:12:54.951753Z",
     "shell.execute_reply": "2021-10-31T18:12:54.952273Z",
     "shell.execute_reply.started": "2021-10-31T18:03:37.303015Z"
    },
    "papermill": {
     "duration": 0.081684,
     "end_time": "2021-10-31T18:12:54.952441",
     "exception": false,
     "start_time": "2021-10-31T18:12:54.870757",
     "status": "completed"
    },
    "tags": []
   },
   "outputs": [
    {
     "name": "stdout",
     "output_type": "stream",
     "text": [
      "In logistic regression:\n",
      "--------------------\n",
      "Precision with original trainset = 0.826\n",
      "Precision with oversampled trainset = 0.900\n"
     ]
    }
   ],
   "source": [
    "print(\"In logistic regression:\" , end = '\\n'+'-'*20+'\\n')\n",
    "print(\"Precision with original trainset = {:.3f}\".format(metrics.precision_score(y_test , pred_lr_org , average = None)[0]))\n",
    "print(\"Precision with oversampled trainset = {:.3f}\".format(metrics.precision_score(y_test , pred_lr_ovr , average = None)[0]))"
   ]
  },
  {
   "cell_type": "markdown",
   "id": "60f97fd0",
   "metadata": {
    "papermill": {
     "duration": 0.067865,
     "end_time": "2021-10-31T18:12:55.087836",
     "exception": false,
     "start_time": "2021-10-31T18:12:55.019971",
     "status": "completed"
    },
    "tags": []
   },
   "source": [
    "- <h2 style=\"color:tomato\">As you see in the above cell, the precision is better with oversampling (that's what we wanted !).</h2>\n",
    "<h3 style = \"color: #009b96\">So from here i will continue training models with the oversampled trainset . . .</h3>"
   ]
  },
  {
   "cell_type": "code",
   "execution_count": 28,
   "id": "fff92725",
   "metadata": {
    "execution": {
     "iopub.execute_input": "2021-10-31T18:12:55.227252Z",
     "iopub.status.busy": "2021-10-31T18:12:55.226592Z",
     "iopub.status.idle": "2021-10-31T18:12:55.231853Z",
     "shell.execute_reply": "2021-10-31T18:12:55.232411Z",
     "shell.execute_reply.started": "2021-10-31T18:03:37.319123Z"
    },
    "papermill": {
     "duration": 0.076689,
     "end_time": "2021-10-31T18:12:55.232582",
     "exception": false,
     "start_time": "2021-10-31T18:12:55.155893",
     "status": "completed"
    },
    "tags": []
   },
   "outputs": [],
   "source": [
    "lr_acc = lr_ovr_acc\n",
    "lr_pr = metrics.precision_score(y_test , pred_lr_ovr , average = None)[0]"
   ]
  },
  {
   "cell_type": "markdown",
   "id": "fd40c672",
   "metadata": {
    "papermill": {
     "duration": 0.067048,
     "end_time": "2021-10-31T18:12:55.368027",
     "exception": false,
     "start_time": "2021-10-31T18:12:55.300979",
     "status": "completed"
    },
    "tags": []
   },
   "source": [
    "<a id = \"7_2\"></a>\n",
    "<h2 style=\"color:#005b96\">7_2. KNN classifier</h2>"
   ]
  },
  {
   "cell_type": "code",
   "execution_count": 29,
   "id": "1cc8ad79",
   "metadata": {
    "execution": {
     "iopub.execute_input": "2021-10-31T18:12:55.506401Z",
     "iopub.status.busy": "2021-10-31T18:12:55.505774Z",
     "iopub.status.idle": "2021-10-31T18:12:55.786389Z",
     "shell.execute_reply": "2021-10-31T18:12:55.785819Z",
     "shell.execute_reply.started": "2021-10-31T18:03:37.330057Z"
    },
    "papermill": {
     "duration": 0.350931,
     "end_time": "2021-10-31T18:12:55.786535",
     "exception": false,
     "start_time": "2021-10-31T18:12:55.435604",
     "status": "completed"
    },
    "tags": []
   },
   "outputs": [
    {
     "name": "stdout",
     "output_type": "stream",
     "text": [
      "KNN classifier accuracy = 0.7575\n",
      "KNN precision = 0.8985507246376812\n"
     ]
    }
   ],
   "source": [
    "knc = KNeighborsClassifier() # the default hyper parameters\n",
    "knc.fit(x_train_resample , y_train_resample)\n",
    "pred_knc = knc.predict(x_test)\n",
    "\n",
    "knc_acc = metrics.accuracy_score(y_test , pred_knc)\n",
    "# knc_pr --> k nearest classifer precision\n",
    "knc_pr = metrics.precision_score(y_test , pred_knc , average = None)[0]\n",
    "\n",
    "print(\"KNN classifier accuracy =\" , knc_acc)\n",
    "print(\"KNN precision =\" , knc_pr)"
   ]
  },
  {
   "cell_type": "markdown",
   "id": "60df80c3",
   "metadata": {
    "papermill": {
     "duration": 0.068237,
     "end_time": "2021-10-31T18:12:55.923682",
     "exception": false,
     "start_time": "2021-10-31T18:12:55.855445",
     "status": "completed"
    },
    "tags": []
   },
   "source": [
    "<a id = \"7_3\"></a>\n",
    "<h2 style=\"color:#005b96\">7_3. Gaussian Naive Bayes</h2>"
   ]
  },
  {
   "cell_type": "code",
   "execution_count": 30,
   "id": "2eaca322",
   "metadata": {
    "execution": {
     "iopub.execute_input": "2021-10-31T18:12:56.068203Z",
     "iopub.status.busy": "2021-10-31T18:12:56.066926Z",
     "iopub.status.idle": "2021-10-31T18:12:56.078602Z",
     "shell.execute_reply": "2021-10-31T18:12:56.079085Z",
     "shell.execute_reply.started": "2021-10-31T18:03:37.629955Z"
    },
    "papermill": {
     "duration": 0.087208,
     "end_time": "2021-10-31T18:12:56.079268",
     "exception": false,
     "start_time": "2021-10-31T18:12:55.992060",
     "status": "completed"
    },
    "tags": []
   },
   "outputs": [
    {
     "name": "stdout",
     "output_type": "stream",
     "text": [
      "Gaussian naive bayes accuracy = 0.748\n",
      "Gaussian naive bayes precision = 0.9000740192450037\n"
     ]
    }
   ],
   "source": [
    "gnb = GaussianNB() # the default hyper parameters\n",
    "gnb.fit(x_train_resample , y_train_resample)\n",
    "pred_gnb = gnb.predict(x_test)\n",
    "\n",
    "gnb_acc = metrics.accuracy_score(y_test , pred_gnb)\n",
    "gnb_pr = metrics.precision_score(y_test , pred_gnb , average = None)[0]\n",
    "\n",
    "print(\"Gaussian naive bayes accuracy =\" , gnb_acc)\n",
    "print(\"Gaussian naive bayes precision =\" , gnb_pr)"
   ]
  },
  {
   "cell_type": "markdown",
   "id": "dff27e15",
   "metadata": {
    "papermill": {
     "duration": 0.068444,
     "end_time": "2021-10-31T18:12:56.215894",
     "exception": false,
     "start_time": "2021-10-31T18:12:56.147450",
     "status": "completed"
    },
    "tags": []
   },
   "source": [
    "<a id = \"7_4\"></a>\n",
    "<h2 style=\"color:#005b96\">7_4. Classification tree</h2>"
   ]
  },
  {
   "cell_type": "code",
   "execution_count": 31,
   "id": "3a908005",
   "metadata": {
    "execution": {
     "iopub.execute_input": "2021-10-31T18:12:56.365056Z",
     "iopub.status.busy": "2021-10-31T18:12:56.364373Z",
     "iopub.status.idle": "2021-10-31T18:13:10.155681Z",
     "shell.execute_reply": "2021-10-31T18:13:10.155081Z",
     "shell.execute_reply.started": "2021-10-31T18:08:00.384882Z"
    },
    "papermill": {
     "duration": 13.870479,
     "end_time": "2021-10-31T18:13:10.155834",
     "exception": false,
     "start_time": "2021-10-31T18:12:56.285355",
     "status": "completed"
    },
    "tags": []
   },
   "outputs": [
    {
     "name": "stdout",
     "output_type": "stream",
     "text": [
      "best accuracy = 0.81 , in k = 87\n"
     ]
    },
    {
     "data": {
      "image/png": "[encoded data removed]",
      "text/plain": [
       "<Figure size 432x288 with 1 Axes>"
      ]
     },
     "metadata": {
      "needs_background": "light"
     },
     "output_type": "display_data"
    }
   ],
   "source": [
    "best_acc = 0\n",
    "best_k = 0\n",
    "test_acc_arr = []\n",
    "train_acc_arr = []\n",
    "\n",
    "for k in range(1,250):\n",
    "    dt = DecisionTreeClassifier(min_samples_leaf = k)\n",
    "    dt.fit(x_train_resample , y_train_resample)\n",
    "    temp_acc = metrics.accuracy_score(y_test , dt.predict(x_test))\n",
    "    test_acc_arr.append(temp_acc)\n",
    "    \n",
    "    train_acc_arr.append(metrics.accuracy_score(y_train_resample , dt.predict(x_train_resample)))\n",
    "    if temp_acc > best_acc :\n",
    "        best_acc = temp_acc\n",
    "        best_k = k\n",
    "\n",
    "print(\"best accuracy = {:.2f} , in k = {:}\".format(best_acc , best_k))\n",
    "\n",
    "plt.plot(np.arange(1,250) , train_acc_arr , color = 'tab:red')\n",
    "plt.plot(np.arange(1,250) , test_acc_arr , color = 'tab:green')\n",
    "plt.plot([87 , 87] , [0.75 , 0.95] , c = 'k' , linestyle = '--' ,alpha = 0.7)\n",
    "plt.title('Accuracy per min_sample_leaf', fontdict = plt_fnt)\n",
    "plt.ylabel('Accuracy'  , fontdict = small_font)\n",
    "plt.xlabel('Minimum samples per leaf' , fontdict = small_font)\n",
    "plt.text(90 , 0.9 , 'best_k = 87' , fontdict = small_font)\n",
    "plt.show()"
   ]
  },
  {
   "cell_type": "markdown",
   "id": "609383d6",
   "metadata": {
    "papermill": {
     "duration": 0.070045,
     "end_time": "2021-10-31T18:13:10.296247",
     "exception": false,
     "start_time": "2021-10-31T18:13:10.226202",
     "status": "completed"
    },
    "tags": []
   },
   "source": [
    "- <h2 style=\"color:##009b96\">As you see when we put small values for min_samples_leaf, we face to overfitting.</h2>\n",
    "- <h2 style=\"color:##009b96\">So best min_samples_leaf = 87</h2>"
   ]
  },
  {
   "cell_type": "code",
   "execution_count": 32,
   "id": "32f63046",
   "metadata": {
    "execution": {
     "iopub.execute_input": "2021-10-31T18:13:10.439999Z",
     "iopub.status.busy": "2021-10-31T18:13:10.439315Z",
     "iopub.status.idle": "2021-10-31T18:13:10.501680Z",
     "shell.execute_reply": "2021-10-31T18:13:10.502128Z",
     "shell.execute_reply.started": "2021-10-31T18:08:14.413648Z"
    },
    "papermill": {
     "duration": 0.135849,
     "end_time": "2021-10-31T18:13:10.502324",
     "exception": false,
     "start_time": "2021-10-31T18:13:10.366475",
     "status": "completed"
    },
    "tags": []
   },
   "outputs": [
    {
     "name": "stdout",
     "output_type": "stream",
     "text": [
      "Decision tree classifier accuracy = 0.815\n",
      "Decision tree classifier precision = 0.9079919408999328\n"
     ]
    }
   ],
   "source": [
    "dt = DecisionTreeClassifier(min_samples_leaf = 87)\n",
    "dt.fit(x_train_resample , y_train_resample)\n",
    "pred_dt = dt.predict(x_test)\n",
    "\n",
    "dt_acc = metrics.accuracy_score(y_test , pred_dt)\n",
    "dt_pr = metrics.precision_score(y_test , pred_dt , average = None)[0]\n",
    "\n",
    "print(\"Decision tree classifier accuracy =\" , dt_acc)\n",
    "print(\"Decision tree classifier precision =\" , dt_pr)"
   ]
  },
  {
   "cell_type": "markdown",
   "id": "2d9f4540",
   "metadata": {
    "papermill": {
     "duration": 0.069914,
     "end_time": "2021-10-31T18:13:10.643132",
     "exception": false,
     "start_time": "2021-10-31T18:13:10.573218",
     "status": "completed"
    },
    "tags": []
   },
   "source": [
    "<a id = \"7_5\"></a>\n",
    "<h2 style=\"color:#005b96\">7_5. Support vector classifier</h2>"
   ]
  },
  {
   "cell_type": "code",
   "execution_count": 33,
   "id": "12dcac17",
   "metadata": {
    "execution": {
     "iopub.execute_input": "2021-10-31T18:13:10.787127Z",
     "iopub.status.busy": "2021-10-31T18:13:10.786507Z",
     "iopub.status.idle": "2021-10-31T18:13:25.468784Z",
     "shell.execute_reply": "2021-10-31T18:13:25.469280Z",
     "shell.execute_reply.started": "2021-10-31T18:08:14.480183Z"
    },
    "papermill": {
     "duration": 14.756267,
     "end_time": "2021-10-31T18:13:25.469460",
     "exception": false,
     "start_time": "2021-10-31T18:13:10.713193",
     "status": "completed"
    },
    "tags": []
   },
   "outputs": [
    {
     "name": "stdout",
     "output_type": "stream",
     "text": [
      "Support vector classifier accuracy = 0.7985\n",
      "Support vector classifier precision = 0.85431654676259\n"
     ]
    }
   ],
   "source": [
    "svc = SVC(C = 1 , gamma = 0.9 , kernel = 'rbf' , random_state = 1)\n",
    "svc.fit(x_train_resample , y_train_resample)\n",
    "pred_svc = svc.predict(x_test)\n",
    "\n",
    "svc_acc = metrics.accuracy_score(y_test , pred_svc) \n",
    "svc_pr = metrics.precision_score(y_test , pred_svc , average = None)[0]\n",
    "\n",
    "print(\"Support vector classifier accuracy =\" , svc_acc)\n",
    "print(\"Support vector classifier precision =\" , svc_pr)"
   ]
  },
  {
   "cell_type": "markdown",
   "id": "bfff310e",
   "metadata": {
    "papermill": {
     "duration": 0.070835,
     "end_time": "2021-10-31T18:13:25.612500",
     "exception": false,
     "start_time": "2021-10-31T18:13:25.541665",
     "status": "completed"
    },
    "tags": []
   },
   "source": [
    "<a id = \"7_6\"></a>\n",
    "<h2 style=\"color:#005b96\">7_6. Random forest</h2>"
   ]
  },
  {
   "cell_type": "code",
   "execution_count": 34,
   "id": "d72b16b0",
   "metadata": {
    "execution": {
     "iopub.execute_input": "2021-10-31T18:13:25.763262Z",
     "iopub.status.busy": "2021-10-31T18:13:25.762593Z",
     "iopub.status.idle": "2021-10-31T18:13:45.095598Z",
     "shell.execute_reply": "2021-10-31T18:13:45.095028Z",
     "shell.execute_reply.started": "2021-10-31T18:08:29.897237Z"
    },
    "papermill": {
     "duration": 19.412059,
     "end_time": "2021-10-31T18:13:45.095737",
     "exception": false,
     "start_time": "2021-10-31T18:13:25.683678",
     "status": "completed"
    },
    "tags": []
   },
   "outputs": [
    {
     "name": "stdout",
     "output_type": "stream",
     "text": [
      "----------Test----------\n",
      "Random forest accuracy = 0.84\n",
      "Random forest precision = 0.9000632511068943\n",
      "----------Train----------\n",
      "Random forest accuracy on trainset = 0.98447789275635\n"
     ]
    }
   ],
   "source": [
    "rfc = RandomForestClassifier(random_state = 1 , max_depth = 15 , n_estimators = 1000)\n",
    "rfc.fit(x_train_resample , y_train_resample)\n",
    "\n",
    "pred_rfc_test = rfc.predict(x_test)\n",
    "pred_rfc_train = rfc.predict(x_train_resample)\n",
    "\n",
    "rfc_acc = metrics.accuracy_score(y_test , pred_rfc_test)\n",
    "rfc_pr = metrics.precision_score(y_test , pred_rfc_test , average = None)[0]\n",
    "rfc_acc_train = metrics.accuracy_score(y_train_resample , pred_rfc_train)\n",
    "\n",
    "print(\"-\"*10+\"Test\"+'-'*10)\n",
    "print(\"Random forest accuracy =\" , rfc_acc)\n",
    "print(\"Random forest precision =\" , rfc_pr)\n",
    "print(\"-\"*10+\"Train\"+'-'*10)\n",
    "print(\"Random forest accuracy on trainset =\",rfc_acc_train)"
   ]
  },
  {
   "cell_type": "markdown",
   "id": "30c1836c",
   "metadata": {
    "papermill": {
     "duration": 0.070844,
     "end_time": "2021-10-31T18:13:45.238360",
     "exception": false,
     "start_time": "2021-10-31T18:13:45.167516",
     "status": "completed"
    },
    "tags": []
   },
   "source": [
    "<a id = \"7_7\"></a>\n",
    "<h2 style=\"color:#005b96\">7_7. AdaBoost</h2>"
   ]
  },
  {
   "cell_type": "code",
   "execution_count": 35,
   "id": "5a6d60b6",
   "metadata": {
    "execution": {
     "iopub.execute_input": "2021-10-31T18:13:45.386700Z",
     "iopub.status.busy": "2021-10-31T18:13:45.385886Z",
     "iopub.status.idle": "2021-10-31T18:14:01.352977Z",
     "shell.execute_reply": "2021-10-31T18:14:01.352219Z",
     "shell.execute_reply.started": "2021-10-31T18:08:49.879882Z"
    },
    "papermill": {
     "duration": 16.043931,
     "end_time": "2021-10-31T18:14:01.353187",
     "exception": false,
     "start_time": "2021-10-31T18:13:45.309256",
     "status": "completed"
    },
    "tags": []
   },
   "outputs": [
    {
     "name": "stdout",
     "output_type": "stream",
     "text": [
      "Ada boost accuracy = 0.8345\n",
      "Ada boost precision = 0.9045161290322581\n"
     ]
    }
   ],
   "source": [
    "ada = AdaBoostClassifier(learning_rate = 0.25 , n_estimators = 1200 , random_state = 1)\n",
    "ada.fit(x_train_resample , y_train_resample)\n",
    "pred_ada = ada.predict(x_test)\n",
    "\n",
    "ada_acc = metrics.accuracy_score(y_test , pred_ada) \n",
    "ada_pr = metrics.precision_score(y_test , pred_ada , average = None)[0]\n",
    "\n",
    "print(\"Ada boost accuracy =\" , ada_acc)\n",
    "print(\"Ada boost precision =\" , ada_pr)"
   ]
  },
  {
   "cell_type": "markdown",
   "id": "a6c0a48e",
   "metadata": {
    "papermill": {
     "duration": 0.070794,
     "end_time": "2021-10-31T18:14:01.495711",
     "exception": false,
     "start_time": "2021-10-31T18:14:01.424917",
     "status": "completed"
    },
    "tags": []
   },
   "source": [
    "<a id = \"7_8\"></a>\n",
    "<h2 style=\"color:#005b96\">7_8. XGBoost</h2>"
   ]
  },
  {
   "cell_type": "code",
   "execution_count": 36,
   "id": "2201d729",
   "metadata": {
    "execution": {
     "iopub.execute_input": "2021-10-31T18:14:01.692507Z",
     "iopub.status.busy": "2021-10-31T18:14:01.691850Z",
     "iopub.status.idle": "2021-10-31T18:14:36.366570Z",
     "shell.execute_reply": "2021-10-31T18:14:36.367100Z",
     "shell.execute_reply.started": "2021-10-31T18:09:06.707282Z"
    },
    "papermill": {
     "duration": 34.800626,
     "end_time": "2021-10-31T18:14:36.367297",
     "exception": false,
     "start_time": "2021-10-31T18:14:01.566671",
     "status": "completed"
    },
    "tags": []
   },
   "outputs": [
    {
     "name": "stdout",
     "output_type": "stream",
     "text": [
      "[18:14:01] WARNING: ../src/learner.cc:1095: Starting in XGBoost 1.3.0, the default evaluation metric used with the objective 'binary:logistic' was changed from 'error' to 'logloss'. Explicitly set eval_metric if you'd like to restore the old behavior.\n",
      "XGBoost classifier accuracy = 0.857\n",
      "XGBoost classifier precision = 0.8863771564544913\n"
     ]
    }
   ],
   "source": [
    "xgb = XGBClassifier(subsample = 0.9 , random_state = 1 , n_estimators = 1200 , max_depth = 15 , use_label_encoder = False\n",
    "                   , learning_rate = 0.01 , gamma = 0.1)\n",
    "xgb.fit(x_train_resample , y_train_resample)\n",
    "pred_xgb = xgb.predict(x_test)\n",
    "\n",
    "xgb_acc = metrics.accuracy_score(y_test , pred_xgb) \n",
    "xgb_pr = metrics.precision_score(y_test , pred_xgb , average = None)[0]\n",
    "\n",
    "print(\"XGBoost classifier accuracy =\" , xgb_acc)\n",
    "print(\"XGBoost classifier precision =\" , xgb_pr)"
   ]
  },
  {
   "cell_type": "markdown",
   "id": "b7227f2c",
   "metadata": {
    "papermill": {
     "duration": 0.071615,
     "end_time": "2021-10-31T18:14:36.510654",
     "exception": false,
     "start_time": "2021-10-31T18:14:36.439039",
     "status": "completed"
    },
    "tags": []
   },
   "source": [
    "<a id = \"8\"></a>\n",
    "## 8. Final step"
   ]
  },
  {
   "cell_type": "markdown",
   "id": "215df6d8",
   "metadata": {
    "papermill": {
     "duration": 0.071829,
     "end_time": "2021-10-31T18:14:36.655539",
     "exception": false,
     "start_time": "2021-10-31T18:14:36.583710",
     "status": "completed"
    },
    "tags": []
   },
   "source": [
    "<a id = \"8_1\"></a>\n",
    "<h1 style=\"color:tomato\">8_1. Models comparison</h1>"
   ]
  },
  {
   "cell_type": "code",
   "execution_count": 37,
   "id": "0a46e304",
   "metadata": {
    "execution": {
     "iopub.execute_input": "2021-10-31T18:14:36.809469Z",
     "iopub.status.busy": "2021-10-31T18:14:36.804053Z",
     "iopub.status.idle": "2021-10-31T18:14:37.087127Z",
     "shell.execute_reply": "2021-10-31T18:14:37.086606Z",
     "shell.execute_reply.started": "2021-10-31T18:10:44.912155Z"
    },
    "papermill": {
     "duration": 0.359622,
     "end_time": "2021-10-31T18:14:37.087332",
     "exception": false,
     "start_time": "2021-10-31T18:14:36.727710",
     "status": "completed"
    },
    "tags": []
   },
   "outputs": [
    {
     "data": {
      "image/png": "[encoded data removed]",
      "text/plain": [
       "<Figure size 432x288 with 1 Axes>"
      ]
     },
     "metadata": {
      "needs_background": "light"
     },
     "output_type": "display_data"
    }
   ],
   "source": [
    "# x --> accuracies\n",
    "# y --> precisions\n",
    "labels = [\"LR\" , \"KNN\" , \"GNB\" , \"DT\" , \"SVC\" , \"RF\" , \"Ada\" , \"XGB\"]\n",
    "x = [lr_acc , knc_acc , gnb_acc , dt_acc , svc_acc , rfc_acc , ada_acc , xgb_acc]\n",
    "y = [lr_pr , knc_pr , gnb_pr , dt_pr , svc_pr , rfc_pr , ada_pr , xgb_pr]\n",
    "\n",
    "plt.xlim(0.711,0.869)\n",
    "plt.ylim(0.851,0.915)\n",
    "\n",
    "plt.title('Models comparison' , fontdict = plt_fnt)\n",
    "plt.xlabel('Accuracy' , fontdict = plt_fnt)\n",
    "plt.ylabel('Precision' , fontdict = plt_fnt)\n",
    "\n",
    "plt.scatter(x , y , alpha = 0.5)\n",
    "for i in range(len(labels)):\n",
    "    plt.annotate(labels[i] , (x[i] , y[i]))"
   ]
  },
  {
   "cell_type": "markdown",
   "id": "68209e95",
   "metadata": {
    "papermill": {
     "duration": 0.072932,
     "end_time": "2021-10-31T18:14:37.233838",
     "exception": false,
     "start_time": "2021-10-31T18:14:37.160906",
     "status": "completed"
    },
    "tags": []
   },
   "source": [
    "- <h2 style=\"color:#009b96\">With the above plot we can compare models with respect of accuracy and precision at the same time.</h2>\n",
    "- <h2 style=\"color:#009b96\">whatever the model is closer to the <u>top right corner</u>, its a better model for this problem.</h2>"
   ]
  },
  {
   "cell_type": "code",
   "execution_count": 38,
   "id": "239a6e22",
   "metadata": {
    "execution": {
     "iopub.execute_input": "2021-10-31T18:14:37.396379Z",
     "iopub.status.busy": "2021-10-31T18:14:37.395355Z",
     "iopub.status.idle": "2021-10-31T18:14:37.398286Z",
     "shell.execute_reply": "2021-10-31T18:14:37.398750Z",
     "shell.execute_reply.started": "2021-10-31T18:09:42.426460Z"
    },
    "papermill": {
     "duration": 0.091198,
     "end_time": "2021-10-31T18:14:37.398912",
     "exception": false,
     "start_time": "2021-10-31T18:14:37.307714",
     "status": "completed"
    },
    "scrolled": true,
    "tags": []
   },
   "outputs": [
    {
     "data": {
      "text/html": [
       "<div>\n",
       "<style scoped>\n",
       "    .dataframe tbody tr th:only-of-type {\n",
       "        vertical-align: middle;\n",
       "    }\n",
       "\n",
       "    .dataframe tbody tr th {\n",
       "        vertical-align: top;\n",
       "    }\n",
       "\n",
       "    .dataframe thead th {\n",
       "        text-align: right;\n",
       "    }\n",
       "</style>\n",
       "<table border=\"1\" class=\"dataframe\">\n",
       "  <thead>\n",
       "    <tr style=\"text-align: right;\">\n",
       "      <th></th>\n",
       "      <th>Model</th>\n",
       "      <th>Accuracy</th>\n",
       "      <th>Precision</th>\n",
       "    </tr>\n",
       "  </thead>\n",
       "  <tbody>\n",
       "    <tr>\n",
       "      <th>7</th>\n",
       "      <td>XGB</td>\n",
       "      <td>0.8570</td>\n",
       "      <td>0.886377</td>\n",
       "    </tr>\n",
       "    <tr>\n",
       "      <th>5</th>\n",
       "      <td>RF</td>\n",
       "      <td>0.8400</td>\n",
       "      <td>0.900063</td>\n",
       "    </tr>\n",
       "    <tr>\n",
       "      <th>6</th>\n",
       "      <td>Ada</td>\n",
       "      <td>0.8345</td>\n",
       "      <td>0.904516</td>\n",
       "    </tr>\n",
       "    <tr>\n",
       "      <th>3</th>\n",
       "      <td>DT</td>\n",
       "      <td>0.8150</td>\n",
       "      <td>0.907992</td>\n",
       "    </tr>\n",
       "    <tr>\n",
       "      <th>4</th>\n",
       "      <td>SVC</td>\n",
       "      <td>0.7985</td>\n",
       "      <td>0.854317</td>\n",
       "    </tr>\n",
       "    <tr>\n",
       "      <th>1</th>\n",
       "      <td>KNN</td>\n",
       "      <td>0.7575</td>\n",
       "      <td>0.898551</td>\n",
       "    </tr>\n",
       "    <tr>\n",
       "      <th>2</th>\n",
       "      <td>GNB</td>\n",
       "      <td>0.7480</td>\n",
       "      <td>0.900074</td>\n",
       "    </tr>\n",
       "    <tr>\n",
       "      <th>0</th>\n",
       "      <td>LR</td>\n",
       "      <td>0.7230</td>\n",
       "      <td>0.899922</td>\n",
       "    </tr>\n",
       "  </tbody>\n",
       "</table>\n",
       "</div>"
      ],
      "text/plain": [
       "  Model  Accuracy  Precision\n",
       "7   XGB    0.8570   0.886377\n",
       "5    RF    0.8400   0.900063\n",
       "6   Ada    0.8345   0.904516\n",
       "3    DT    0.8150   0.907992\n",
       "4   SVC    0.7985   0.854317\n",
       "1   KNN    0.7575   0.898551\n",
       "2   GNB    0.7480   0.900074\n",
       "0    LR    0.7230   0.899922"
      ]
     },
     "execution_count": 38,
     "metadata": {},
     "output_type": "execute_result"
    }
   ],
   "source": [
    "eval_frame = pd.DataFrame()\n",
    "eval_frame['Model'] = labels\n",
    "eval_frame['Accuracy'] = x\n",
    "eval_frame['Precision'] = y\n",
    "eval_frame.sort_values('Accuracy' , ascending = False)"
   ]
  },
  {
   "cell_type": "markdown",
   "id": "ad833a22",
   "metadata": {
    "papermill": {
     "duration": 0.074753,
     "end_time": "2021-10-31T18:14:37.546835",
     "exception": false,
     "start_time": "2021-10-31T18:14:37.472082",
     "status": "completed"
    },
    "tags": []
   },
   "source": [
    "- <h2 style=\"color:#009b96\">As you see in the above cell, XGBoost has the best accuracy among the other models.</h2>\n",
    "- <h2 style=\"color:tomato\">Remember that, not only the accuracy but also the precision is important for us in this problem, i mentioned that in part 7_1_2 .</h2>\n",
    "- <h2 style=\"color:#009b96\">So because <u>random forest</u> has a better precision, i will choose that as the best model among others.</h2>"
   ]
  },
  {
   "cell_type": "markdown",
   "id": "deab03b3",
   "metadata": {
    "papermill": {
     "duration": 0.073481,
     "end_time": "2021-10-31T18:14:37.694774",
     "exception": false,
     "start_time": "2021-10-31T18:14:37.621293",
     "status": "completed"
    },
    "tags": []
   },
   "source": [
    "<a id = \"8_2\"></a>\n",
    "<h1 style=\"color:tomato\">8_2. Random forest confusion matrix</h1>"
   ]
  },
  {
   "cell_type": "code",
   "execution_count": 39,
   "id": "52a2aaee",
   "metadata": {
    "execution": {
     "iopub.execute_input": "2021-10-31T18:14:37.847565Z",
     "iopub.status.busy": "2021-10-31T18:14:37.846881Z",
     "iopub.status.idle": "2021-10-31T18:14:38.149092Z",
     "shell.execute_reply": "2021-10-31T18:14:38.150230Z",
     "shell.execute_reply.started": "2021-10-31T18:09:42.446888Z"
    },
    "papermill": {
     "duration": 0.381161,
     "end_time": "2021-10-31T18:14:38.150528",
     "exception": false,
     "start_time": "2021-10-31T18:14:37.769367",
     "status": "completed"
    },
    "tags": []
   },
   "outputs": [
    {
     "data": {
      "image/png": "[encoded data removed]",
      "text/plain": [
       "<Figure size 360x360 with 1 Axes>"
      ]
     },
     "metadata": {
      "needs_background": "light"
     },
     "output_type": "display_data"
    }
   ],
   "source": [
    "plt.figure(figsize = (5,5))\n",
    "plt.title('Random forest evaluation on testset' , fontdict = small_font)\n",
    "sns.heatmap(data = metrics.confusion_matrix(y_test , pred_rfc_test) , annot = True , fmt = '.0f' , cmap = 'viridis'\n",
    "            , cbar = False , square = True)\n",
    "\n",
    "plt.show()"
   ]
  },
  {
   "cell_type": "markdown",
   "id": "12f7f88a",
   "metadata": {
    "papermill": {
     "duration": 0.074777,
     "end_time": "2021-10-31T18:14:38.302667",
     "exception": false,
     "start_time": "2021-10-31T18:14:38.227890",
     "status": "completed"
    },
    "tags": []
   },
   "source": [
    "<h1 style=\"color:#a56bb5\">We are done...</h1>\n",
    "<h1 style=\"color:#a56bb5\">Thanks for reading</h1>"
   ]
  }
 ],
 "metadata": {
  "kernelspec": {
   "display_name": "Python 3",
   "language": "python",
   "name": "python3"
  },
  "language_info": {
   "codemirror_mode": {
    "name": "ipython",
    "version": 3
   },
   "file_extension": ".py",
   "mimetype": "text/x-python",
   "name": "python",
   "nbconvert_exporter": "python",
   "pygments_lexer": "ipython3",
   "version": "3.7.10"
  },
  "papermill": {
   "default_parameters": {},
   "duration": 125.926473,
   "end_time": "2021-10-31T18:14:39.844256",
   "environment_variables": {},
   "exception": null,
   "input_path": "__notebook__.ipynb",
   "output_path": "__notebook__.ipynb",
   "parameters": {},
   "start_time": "2021-10-31T18:12:33.917783",
   "version": "2.3.3"
  }
 },
 "nbformat": 4,
 "nbformat_minor": 5
}
